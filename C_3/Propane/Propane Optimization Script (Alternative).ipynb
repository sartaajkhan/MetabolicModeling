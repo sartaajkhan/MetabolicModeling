{
 "cells": [
  {
   "cell_type": "code",
   "execution_count": 9,
   "metadata": {},
   "outputs": [],
   "source": [
    "from cobra import Metabolite\n",
    "from cobra import Reaction\n",
    "import cameo\n",
    "import cobra"
   ]
  },
  {
   "cell_type": "code",
   "execution_count": 10,
   "metadata": {},
   "outputs": [],
   "source": [
    "#importing iJO1366 model\n",
    "model = cameo.models.bigg.iJO1366\n",
    "model.reactions.EX_co2_e.lower_bound = 0\n",
    "\n",
    "#metabolite declaration\n",
    "keto = model.metabolites.get_by_id('3mob_c')\n",
    "H = model.metabolites.get_by_id('h_c')\n",
    "isobutyraldehyde = Metabolite('2mppal_c', formula = 'C4H8O', name = 'isobutyraldehyde', compartment = 'c')\n",
    "co2 = model.metabolites.get_by_id('co2_c')\n",
    "o2 = model.metabolites.get_by_id('o2_c')\n",
    "nadph = model.metabolites.get_by_id('nadph_c')\n",
    "formate = model.metabolites.get_by_id('for_c')\n",
    "h2o = model.metabolites.get_by_id('h2o_c')\n",
    "nadp = model.metabolites.get_by_id('nadp_c')\n",
    "propane = Metabolite('propane_c', formula = 'C3H8', name = 'propane', compartment = 'c')\n"
   ]
  },
  {
   "cell_type": "code",
   "execution_count": 11,
   "metadata": {},
   "outputs": [],
   "source": [
    "#reaction 1: keto + H <-> isobutyraldehyde + co2\n",
    "reaction1 = Reaction('keto_isobut')\n",
    "reaction1.name = '2-ketoisovalerate to isobutyraldehyde'\n",
    "reaction1.lower_bound = 0\n",
    "reaction1.upper_bound = 1000\n",
    "reaction1.add_metabolites({keto: -1.0, H: -1.0, isobutyraldehyde: 1.0, co2: 1.0})\n",
    "model.add_reaction(reaction1)\n",
    "\n",
    "#reaction 2: isobutyraldehyde + o2 + 2nadph + H <-> propane + formate + h2o + 2nadp\n",
    "reaction2 = Reaction('isobut_propane')\n",
    "reaction2.name = 'isobutyraldehyde to propane'\n",
    "reaction2.lower_bound = 0\n",
    "reaction2.upper_bound = 1000\n",
    "reaction2.add_metabolites({isobutyraldehyde: -1.0, o2: -1.0, nadph: -2.0, H: -1.0, propane: 1.0, formate: 1.0, h2o: 1.0, nadp: 2.0})\n",
    "model.add_reaction(reaction2)\n",
    "\n",
    "#reaction 3: propane ->\n",
    "reaction3 = Reaction('EX_propane_e')\n",
    "reaction3.name = 'propane consumption'\n",
    "reaction3.lower_bound = 0\n",
    "reaction3.upper_bound = 1000\n",
    "reaction3.add_metabolites({propane: -1.0})\n",
    "model.add_reaction(reaction3)\n"
   ]
  },
  {
   "cell_type": "code",
   "execution_count": 12,
   "metadata": {},
   "outputs": [
    {
     "name": "stdout",
     "output_type": "stream",
     "text": [
      "9.45379746835443\n"
     ]
    }
   ],
   "source": [
    "#optimum flux calculation\n",
    "model.objective = 'EX_propane_e'\n",
    "max_flux = 0\n",
    "max_flux=(model.optimize(objective_sense='maximize').objective_value)\n",
    "print(max_flux)"
   ]
  },
  {
   "cell_type": "code",
   "execution_count": 13,
   "metadata": {},
   "outputs": [
    {
     "data": {
      "text/html": [
       "<div>\n",
       "<style scoped>\n",
       "    .dataframe tbody tr th:only-of-type {\n",
       "        vertical-align: middle;\n",
       "    }\n",
       "\n",
       "    .dataframe tbody tr th {\n",
       "        vertical-align: top;\n",
       "    }\n",
       "\n",
       "    .dataframe thead tr th {\n",
       "        text-align: left;\n",
       "    }\n",
       "</style>\n",
       "<table border=\"1\" class=\"dataframe\">\n",
       "  <thead>\n",
       "    <tr>\n",
       "      <th></th>\n",
       "      <th colspan=\"2\" halign=\"left\">IN_FLUXES</th>\n",
       "      <th colspan=\"2\" halign=\"left\">OUT_FLUXES</th>\n",
       "      <th colspan=\"2\" halign=\"left\">OBJECTIVES</th>\n",
       "    </tr>\n",
       "    <tr>\n",
       "      <th></th>\n",
       "      <th>ID</th>\n",
       "      <th>FLUX</th>\n",
       "      <th>ID</th>\n",
       "      <th>FLUX</th>\n",
       "      <th>ID</th>\n",
       "      <th>FLUX</th>\n",
       "    </tr>\n",
       "  </thead>\n",
       "  <tbody>\n",
       "    <tr>\n",
       "      <th>0</th>\n",
       "      <td>o2_e</td>\n",
       "      <td>12.731013</td>\n",
       "      <td>co2_e</td>\n",
       "      <td>31.638608</td>\n",
       "      <td>EX_propane_e</td>\n",
       "      <td>9.453797</td>\n",
       "    </tr>\n",
       "    <tr>\n",
       "      <th>1</th>\n",
       "      <td>glc__D_e</td>\n",
       "      <td>10.000000</td>\n",
       "      <td>h2o_e</td>\n",
       "      <td>22.184810</td>\n",
       "      <td>NaN</td>\n",
       "      <td>NaN</td>\n",
       "    </tr>\n",
       "  </tbody>\n",
       "</table>\n",
       "</div>"
      ],
      "text/plain": [
       "<cobra.core.summary.model_summary.ModelSummary at 0x1021598208>"
      ]
     },
     "execution_count": 13,
     "metadata": {},
     "output_type": "execute_result"
    }
   ],
   "source": [
    "model.summary()"
   ]
  },
  {
   "cell_type": "code",
   "execution_count": 16,
   "metadata": {},
   "outputs": [],
   "source": [
    "cobra.io.write_sbml_model(model, \"propane_alternative.xml\")"
   ]
  },
  {
   "cell_type": "code",
   "execution_count": 18,
   "metadata": {},
   "outputs": [
    {
     "data": {
      "text/plain": [
       "44.09562"
      ]
     },
     "execution_count": 18,
     "metadata": {},
     "output_type": "execute_result"
    }
   ],
   "source": [
    "propane.formula_weight"
   ]
  },
  {
   "cell_type": "code",
   "execution_count": null,
   "metadata": {},
   "outputs": [],
   "source": []
  }
 ],
 "metadata": {
  "kernelspec": {
   "display_name": "Python 3",
   "language": "python",
   "name": "python3"
  },
  "language_info": {
   "codemirror_mode": {
    "name": "ipython",
    "version": 3
   },
   "file_extension": ".py",
   "mimetype": "text/x-python",
   "name": "python",
   "nbconvert_exporter": "python",
   "pygments_lexer": "ipython3",
   "version": "3.6.10"
  }
 },
 "nbformat": 4,
 "nbformat_minor": 4
}
