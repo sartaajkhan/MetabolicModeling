{
 "cells": [
  {
   "cell_type": "code",
   "execution_count": 4,
   "metadata": {},
   "outputs": [],
   "source": [
    "from cobra import Metabolite\n",
    "from cobra import Reaction\n",
    "import cameo\n",
    "import cobra"
   ]
  },
  {
   "cell_type": "code",
   "execution_count": 5,
   "metadata": {},
   "outputs": [],
   "source": [
    "#importing iJO1366 model\n",
    "model = cameo.models.bigg.iML1515\n",
    "model.reactions.EX_co2_e.lower_bound = 0\n",
    "\n",
    "#metabolite declaration\n",
    "frdp = model.metabolites.get_by_id('frdp_c')\n",
    "ipdp = model.metabolites.get_by_id('ipdp_c')\n",
    "ppi = model.metabolites.get_by_id('ppi_c')\n",
    "ggdp = Metabolite('ggdp', formula = 'C20H33O7P2', name = 'geranylgeranyl diphosphate', compartment = 'c', charge = -3)\n",
    "casbene = Metabolite('casbene_c', formula = 'C20H32', name = 'casbene', compartment = 'c')\n"
   ]
  },
  {
   "cell_type": "code",
   "execution_count": 6,
   "metadata": {},
   "outputs": [],
   "source": [
    "#reaction 1: frdp + ipdp <-> ppi + ggdp\n",
    "reaction1 = Reaction('ggdp_form')\n",
    "reaction1.name = 'geranylgeranyl diphosphate formation'\n",
    "reaction1.lower_bound = -1000\n",
    "reaction1.upper_bound = 1000\n",
    "reaction1.add_metabolites({frdp: -1.0, ipdp: -1.0, ppi: 1.0, ggdp: 1.0})\n",
    "model.add_reaction(reaction1)\n",
    "\n",
    "#reaction 2: ggdp <-> casbene + ppi\n",
    "reaction2 = Reaction('casbene_form')\n",
    "reaction2.name = 'casbene formation'\n",
    "reaction2.lower_bound = -1000\n",
    "reaction2.upper_bound = 1000\n",
    "reaction2.add_metabolites({ggdp: -1.0, casbene: 1.0, ppi: 1.0})\n",
    "model.add_reaction(reaction2)\n",
    "\n",
    "#reaction 3: casbene ->\n",
    "reaction3 = Reaction('EX_casbene_e')\n",
    "reaction3.name = 'casbene consumption'\n",
    "reaction3.lower_bound = 0\n",
    "reaction3.upper_bound = 1000\n",
    "reaction3.add_metabolites({casbene: -1.0})\n",
    "model.add_reaction(reaction3)\n"
   ]
  },
  {
   "cell_type": "code",
   "execution_count": 7,
   "metadata": {
    "scrolled": true
   },
   "outputs": [
    {
     "name": "stdout",
     "output_type": "stream",
     "text": [
      "1.8873725490196078\n"
     ]
    }
   ],
   "source": [
    "#optimum flux calculation\n",
    "model.objective = 'EX_casbene_e'\n",
    "max_flux = 0\n",
    "max_flux=(model.optimize(objective_sense='maximize').objective_value)\n",
    "print(max_flux)"
   ]
  },
  {
   "cell_type": "code",
   "execution_count": 8,
   "metadata": {},
   "outputs": [
    {
     "data": {
      "text/html": [
       "<div>\n",
       "<style scoped>\n",
       "    .dataframe tbody tr th:only-of-type {\n",
       "        vertical-align: middle;\n",
       "    }\n",
       "\n",
       "    .dataframe tbody tr th {\n",
       "        vertical-align: top;\n",
       "    }\n",
       "\n",
       "    .dataframe thead tr th {\n",
       "        text-align: left;\n",
       "    }\n",
       "</style>\n",
       "<table border=\"1\" class=\"dataframe\">\n",
       "  <thead>\n",
       "    <tr>\n",
       "      <th></th>\n",
       "      <th colspan=\"2\" halign=\"left\">IN_FLUXES</th>\n",
       "      <th colspan=\"2\" halign=\"left\">OUT_FLUXES</th>\n",
       "      <th colspan=\"2\" halign=\"left\">OBJECTIVES</th>\n",
       "    </tr>\n",
       "    <tr>\n",
       "      <th></th>\n",
       "      <th>ID</th>\n",
       "      <th>FLUX</th>\n",
       "      <th>ID</th>\n",
       "      <th>FLUX</th>\n",
       "      <th>ID</th>\n",
       "      <th>FLUX</th>\n",
       "    </tr>\n",
       "  </thead>\n",
       "  <tbody>\n",
       "    <tr>\n",
       "      <th>0</th>\n",
       "      <td>glc__D_e</td>\n",
       "      <td>10.000000</td>\n",
       "      <td>h2o_e</td>\n",
       "      <td>29.802039</td>\n",
       "      <td>EX_casbene_e</td>\n",
       "      <td>1.887373</td>\n",
       "    </tr>\n",
       "    <tr>\n",
       "      <th>1</th>\n",
       "      <td>o2_e</td>\n",
       "      <td>7.153569</td>\n",
       "      <td>co2_e</td>\n",
       "      <td>22.252549</td>\n",
       "      <td>NaN</td>\n",
       "      <td>NaN</td>\n",
       "    </tr>\n",
       "  </tbody>\n",
       "</table>\n",
       "</div>"
      ],
      "text/plain": [
       "<cobra.core.summary.model_summary.ModelSummary at 0x11233abe0>"
      ]
     },
     "execution_count": 8,
     "metadata": {},
     "output_type": "execute_result"
    }
   ],
   "source": [
    "model.summary()"
   ]
  },
  {
   "cell_type": "code",
   "execution_count": 9,
   "metadata": {},
   "outputs": [],
   "source": [
    "cobra.io.write_sbml_model(model, \"casbene_iML1515.xml\")"
   ]
  },
  {
   "cell_type": "code",
   "execution_count": null,
   "metadata": {},
   "outputs": [],
   "source": []
  }
 ],
 "metadata": {
  "kernelspec": {
   "display_name": "Python 3",
   "language": "python",
   "name": "python3"
  },
  "language_info": {
   "codemirror_mode": {
    "name": "ipython",
    "version": 3
   },
   "file_extension": ".py",
   "mimetype": "text/x-python",
   "name": "python",
   "nbconvert_exporter": "python",
   "pygments_lexer": "ipython3",
   "version": "3.6.10"
  }
 },
 "nbformat": 4,
 "nbformat_minor": 4
}
