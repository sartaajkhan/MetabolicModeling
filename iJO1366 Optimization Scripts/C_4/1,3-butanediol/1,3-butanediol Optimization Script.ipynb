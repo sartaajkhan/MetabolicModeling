{
 "cells": [
  {
   "cell_type": "code",
   "execution_count": 4,
   "metadata": {},
   "outputs": [],
   "source": [
    "from cobra import Metabolite\n",
    "from cobra import Reaction\n",
    "import cameo\n",
    "import cobra"
   ]
  },
  {
   "cell_type": "code",
   "execution_count": 5,
   "metadata": {},
   "outputs": [],
   "source": [
    "#importing iJO1366 model\n",
    "model = cameo.models.bigg.iJO1366\n",
    "model.reactions.EX_co2_e.lower_bound = 0\n",
    "\n",
    "#metabolite declaration\n",
    "aacoa = model.metabolites.get_by_id('aacoa_c')\n",
    "nadph = model.metabolites.get_by_id('nadph_c')\n",
    "nadp = model.metabolites.get_by_id('nadp_c')\n",
    "hbcoa = Metabolite('3hbcoa__R_c', formula = 'C25H38N7O18P3S', name = '3-hydroxybutyryl-CoA', charge = -4, compartment = 'c')\n",
    "coa = model.metabolites.get_by_id('coa_c')\n",
    "hbal3 = Metabolite('hbal3_c', formula = 'C4H8O2', name = '3-hydroxybutanal', compartment = 'c')\n",
    "nadh = model.metabolites.get_by_id('nadh_c')\n",
    "nad = model.metabolites.get_by_id('nad_c')\n",
    "H = model.metabolites.get_by_id('h_c')\n",
    "BD_13 = Metabolite('13btdl_c', formula = 'C4H10O2', name = '1,3-butanediol', compartment = 'c')\n"
   ]
  },
  {
   "cell_type": "code",
   "execution_count": 6,
   "metadata": {},
   "outputs": [],
   "source": [
    "#reaction 1: aacoa + nadph + H <-> hbcoa + nadp\n",
    "reaction1 = Reaction('aacoa_hbcoa')\n",
    "reaction1.name = 'acetoacetyl-CoA to 3-hydroxybutyryl-CoA'\n",
    "reaction1.lower_bound = 0\n",
    "reaction1.upper_bound = 1000\n",
    "reaction1.add_metabolites({aacoa: -1.0, nadph: -1.0, H: -1.0, hbcoa: 1.0, nadp: 1.0})\n",
    "model.add_reaction(reaction1)\n",
    "\n",
    "#reaction 2: hbcoa + nadph + H <=> hbal3 + nadp + coa\n",
    "reaction2 = Reaction('hbcoa_hbal3')\n",
    "reaction2.name = '3-hydroxybutyryl-CoA to 3-hydroxybutanal'\n",
    "reaction2.lower_bound = 0\n",
    "reaction2.upper_bound = 1000\n",
    "reaction2.add_metabolites({hbcoa: -1.0, nadph: -1.0, H: -1.0, hbal3: 1.0, nadp: 1.0, coa: 1.0})\n",
    "model.add_reaction(reaction2)\n",
    "\n",
    "#reaction 3: hbal3 + nadh + H -> BD_13 + nad\n",
    "reaction3 = Reaction('hbal3_bd_13')\n",
    "reaction3.name = '3-hydroxybutanal to 1,3-butanediol'\n",
    "reaction3.lower_bound = 0\n",
    "reaction3.upper_bound = 1000\n",
    "reaction3.add_metabolites({hbal3: -1.0, nadh: -1.0, H: -1.0, BD_13: 1.0, nad: 1.0})\n",
    "model.add_reaction(reaction3)\n",
    "\n",
    "#reaction 4: BD_13 <=>\n",
    "reaction4 = Reaction('EX_13btdl_e')\n",
    "reaction4.name = '1,3-butanediol consumption'\n",
    "reaction4.lower_bound = 0\n",
    "reaction4.upper_bound = 1000\n",
    "reaction4.add_metabolites({BD_13: -1.0})\n",
    "model.add_reaction(reaction4)"
   ]
  },
  {
   "cell_type": "code",
   "execution_count": 7,
   "metadata": {},
   "outputs": [
    {
     "name": "stdout",
     "output_type": "stream",
     "text": [
      "10.804958677685951\n"
     ]
    }
   ],
   "source": [
    "#optimum flux calculation\n",
    "model.objective = 'EX_13btdl_e'\n",
    "max_flux = 0\n",
    "max_flux=(model.optimize(objective_sense='maximize').objective_value)\n",
    "print(max_flux)"
   ]
  },
  {
   "cell_type": "code",
   "execution_count": 8,
   "metadata": {},
   "outputs": [
    {
     "data": {
      "text/html": [
       "<div>\n",
       "<style scoped>\n",
       "    .dataframe tbody tr th:only-of-type {\n",
       "        vertical-align: middle;\n",
       "    }\n",
       "\n",
       "    .dataframe tbody tr th {\n",
       "        vertical-align: top;\n",
       "    }\n",
       "\n",
       "    .dataframe thead tr th {\n",
       "        text-align: left;\n",
       "    }\n",
       "</style>\n",
       "<table border=\"1\" class=\"dataframe\">\n",
       "  <thead>\n",
       "    <tr>\n",
       "      <th></th>\n",
       "      <th colspan=\"2\" halign=\"left\">IN_FLUXES</th>\n",
       "      <th colspan=\"2\" halign=\"left\">OUT_FLUXES</th>\n",
       "      <th colspan=\"2\" halign=\"left\">OBJECTIVES</th>\n",
       "    </tr>\n",
       "    <tr>\n",
       "      <th></th>\n",
       "      <th>ID</th>\n",
       "      <th>FLUX</th>\n",
       "      <th>ID</th>\n",
       "      <th>FLUX</th>\n",
       "      <th>ID</th>\n",
       "      <th>FLUX</th>\n",
       "    </tr>\n",
       "  </thead>\n",
       "  <tbody>\n",
       "    <tr>\n",
       "      <th>0</th>\n",
       "      <td>glc__D_e</td>\n",
       "      <td>10.000000</td>\n",
       "      <td>co2_e</td>\n",
       "      <td>16.780165</td>\n",
       "      <td>EX_13btdl_e</td>\n",
       "      <td>10.804959</td>\n",
       "    </tr>\n",
       "    <tr>\n",
       "      <th>1</th>\n",
       "      <td>o2_e</td>\n",
       "      <td>0.572727</td>\n",
       "      <td>h2o_e</td>\n",
       "      <td>5.975207</td>\n",
       "      <td>NaN</td>\n",
       "      <td>NaN</td>\n",
       "    </tr>\n",
       "  </tbody>\n",
       "</table>\n",
       "</div>"
      ],
      "text/plain": [
       "<cobra.core.summary.model_summary.ModelSummary at 0x10ed7cbe0>"
      ]
     },
     "execution_count": 8,
     "metadata": {},
     "output_type": "execute_result"
    }
   ],
   "source": [
    "model.summary()"
   ]
  },
  {
   "cell_type": "code",
   "execution_count": 13,
   "metadata": {},
   "outputs": [],
   "source": [
    "cobra.io.write_sbml_model(model, \"1_3_butanediol.xml\")"
   ]
  },
  {
   "cell_type": "code",
   "execution_count": null,
   "metadata": {},
   "outputs": [],
   "source": []
  }
 ],
 "metadata": {
  "kernelspec": {
   "display_name": "Python 3",
   "language": "python",
   "name": "python3"
  },
  "language_info": {
   "codemirror_mode": {
    "name": "ipython",
    "version": 3
   },
   "file_extension": ".py",
   "mimetype": "text/x-python",
   "name": "python",
   "nbconvert_exporter": "python",
   "pygments_lexer": "ipython3",
   "version": "3.6.10"
  }
 },
 "nbformat": 4,
 "nbformat_minor": 4
}
