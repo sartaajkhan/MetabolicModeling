{
 "cells": [
  {
   "cell_type": "code",
   "execution_count": 6,
   "metadata": {},
   "outputs": [],
   "source": [
    "from cobra import Metabolite\n",
    "from cobra import Reaction\n",
    "import cameo\n",
    "import cobra"
   ]
  },
  {
   "cell_type": "code",
   "execution_count": 7,
   "metadata": {},
   "outputs": [],
   "source": [
    "#importing iJO1366 model\n",
    "model = cameo.models.bigg.iJO1366\n",
    "model.reactions.EX_co2_e.lower_bound = 0\n",
    "\n",
    "#metabolites\n",
    "glucose = model.metabolites.get_by_id('glu__D_c')\n",
    "atp = model.metabolites.get_by_id('atp_c')\n",
    "adp = model.metabolites.get_by_id('adp_c')\n",
    "H = model.metabolites.get_by_id('h_c')\n",
    "g6p = model.metabolites.get_by_id('g6p_c')\n",
    "f6p = model.metabolites.get_by_id('f6p_c')\n",
    "fdp = model.metabolites.get_by_id('fdp_c')\n",
    "dhap = model.metabolites.get_by_id('dhap_c')\n",
    "g3p = model.metabolites.get_by_id('g3p_c')\n",
    "mthgxl = model.metabolites.get_by_id('mthgxl_c')\n",
    "phosphite = model.metabolites.get_by_id('pi_c')\n",
    "nadph = model.metabolites.get_by_id('nadph_c')\n",
    "lald__D = model.metabolites.get_by_id('lald__D_c')\n",
    "nadp = model.metabolites.get_by_id('nadp_c')\n",
    "nadph = model.metabolites.get_by_id('nadph_c')\n",
    "ppdr12 = model.metabolites.get_by_id('12ppd__R_c')\n",
    "nadh = model.metabolites.get_by_id('nadh_c')\n",
    "nad = model.metabolites.get_by_id('nad_c')\n",
    "ppal = model.metabolites.get_by_id('ppal_c')\n",
    "h2o = model.metabolites.get_by_id('h2o_c')\n",
    "propanol_1 = Metabolite('ppoh_c', formula = 'C3H8O', name = '1-propanol', compartment = 'c')\n"
   ]
  },
  {
   "cell_type": "code",
   "execution_count": 8,
   "metadata": {},
   "outputs": [],
   "source": [
    "#reactions inputted into iJO1366 genetic circuit\n",
    "\n",
    "#reaction 9: ppdr12 -> propionaldehyde + h2o\n",
    "reaction9 = Reaction('ppdr12_propionaldehyde')\n",
    "reaction9.name = '(R)-Propane-1,2-diol to propanal'\n",
    "reaction9.lower_bound = -1000\n",
    "reaction9.upper_bound = 1000\n",
    "reaction9.add_metabolites({ppdr12: -1.0, ppal: 1.0, h2o: 1.0})\n",
    "model.add_reaction(reaction9)\n",
    "\n",
    "#reaction 10: propionaldehyde + nadh + H -> propanol_1 + nad\n",
    "reaction10 = Reaction('propald_propanol_1')\n",
    "reaction10.name = 'propionaldehyde to 1-propanol'\n",
    "reaction10.lower_bound = -1000\n",
    "reaction10.upper_bound = 1000\n",
    "reaction10.add_metabolites({ppal: -1.0, nadh: -1.0, H: -1.0, propanol_1: 1.0, nad: 1.0})\n",
    "model.add_reaction(reaction10)\n",
    "\n",
    "#reaction 11: propanol_1 ->\n",
    "reaction11 = Reaction('EX_ppoh_e')\n",
    "reaction11.name = '1-propanol consumption'\n",
    "reaction11.lower_bound = 0\n",
    "reaction11.upper_bound = 1000\n",
    "reaction11.add_metabolites({propanol_1: -1.0})\n",
    "model.add_reaction(reaction11)\n"
   ]
  },
  {
   "cell_type": "code",
   "execution_count": 9,
   "metadata": {},
   "outputs": [
    {
     "name": "stdout",
     "output_type": "stream",
     "text": [
      "12.74923076923077\n"
     ]
    }
   ],
   "source": [
    "#optimum flux calculation\n",
    "model.objective = 'EX_ppoh_e'\n",
    "max_flux = 0\n",
    "max_flux=(model.optimize(objective_sense='maximize').objective_value)\n",
    "print(max_flux)"
   ]
  },
  {
   "cell_type": "code",
   "execution_count": 10,
   "metadata": {},
   "outputs": [
    {
     "data": {
      "text/html": [
       "<div>\n",
       "<style scoped>\n",
       "    .dataframe tbody tr th:only-of-type {\n",
       "        vertical-align: middle;\n",
       "    }\n",
       "\n",
       "    .dataframe tbody tr th {\n",
       "        vertical-align: top;\n",
       "    }\n",
       "\n",
       "    .dataframe thead tr th {\n",
       "        text-align: left;\n",
       "    }\n",
       "</style>\n",
       "<table border=\"1\" class=\"dataframe\">\n",
       "  <thead>\n",
       "    <tr>\n",
       "      <th></th>\n",
       "      <th colspan=\"2\" halign=\"left\">IN_FLUXES</th>\n",
       "      <th colspan=\"2\" halign=\"left\">OUT_FLUXES</th>\n",
       "      <th colspan=\"2\" halign=\"left\">OBJECTIVES</th>\n",
       "    </tr>\n",
       "    <tr>\n",
       "      <th></th>\n",
       "      <th>ID</th>\n",
       "      <th>FLUX</th>\n",
       "      <th>ID</th>\n",
       "      <th>FLUX</th>\n",
       "      <th>ID</th>\n",
       "      <th>FLUX</th>\n",
       "    </tr>\n",
       "  </thead>\n",
       "  <tbody>\n",
       "    <tr>\n",
       "      <th>0</th>\n",
       "      <td>glc__D_e</td>\n",
       "      <td>10.000000</td>\n",
       "      <td>co2_e</td>\n",
       "      <td>21.752308</td>\n",
       "      <td>EX_ppoh_e</td>\n",
       "      <td>12.749231</td>\n",
       "    </tr>\n",
       "    <tr>\n",
       "      <th>1</th>\n",
       "      <td>o2_e</td>\n",
       "      <td>2.628462</td>\n",
       "      <td>h2o_e</td>\n",
       "      <td>9.003077</td>\n",
       "      <td>NaN</td>\n",
       "      <td>NaN</td>\n",
       "    </tr>\n",
       "  </tbody>\n",
       "</table>\n",
       "</div>"
      ],
      "text/plain": [
       "<cobra.core.summary.model_summary.ModelSummary at 0x10236b0390>"
      ]
     },
     "execution_count": 10,
     "metadata": {},
     "output_type": "execute_result"
    }
   ],
   "source": [
    "model.summary()"
   ]
  },
  {
   "cell_type": "code",
   "execution_count": 11,
   "metadata": {},
   "outputs": [],
   "source": [
    "cobra.io.write_sbml_model(model, \"1_propanol.xml\")"
   ]
  },
  {
   "cell_type": "code",
   "execution_count": null,
   "metadata": {},
   "outputs": [],
   "source": []
  }
 ],
 "metadata": {
  "kernelspec": {
   "display_name": "Python 3",
   "language": "python",
   "name": "python3"
  },
  "language_info": {
   "codemirror_mode": {
    "name": "ipython",
    "version": 3
   },
   "file_extension": ".py",
   "mimetype": "text/x-python",
   "name": "python",
   "nbconvert_exporter": "python",
   "pygments_lexer": "ipython3",
   "version": "3.6.10"
  }
 },
 "nbformat": 4,
 "nbformat_minor": 4
}
