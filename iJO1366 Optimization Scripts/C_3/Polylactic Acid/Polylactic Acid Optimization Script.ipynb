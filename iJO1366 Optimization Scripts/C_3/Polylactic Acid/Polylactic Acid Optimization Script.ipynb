{
 "cells": [
  {
   "cell_type": "code",
   "execution_count": 15,
   "metadata": {},
   "outputs": [],
   "source": [
    "from cobra import Metabolite\n",
    "from cobra import Reaction\n",
    "import cameo\n",
    "import cobra"
   ]
  },
  {
   "cell_type": "code",
   "execution_count": 16,
   "metadata": {},
   "outputs": [],
   "source": [
    "#importing iJO1366 model\n",
    "model = cameo.models.bigg.iJO1366\n",
    "model.reactions.EX_co2_e.lower_bound = 0\n",
    "\n",
    "#metabolite declaration\n",
    "lactate = model.metabolites.get_by_id('lac__L_c')\n",
    "accoa = model.metabolites.get_by_id('accoa_c')\n",
    "lactyl_coa = Metabolite('laccoa_c', formula = 'C24H36N7O18P3S', name = 'lactyl-CoA', compartment = 'c', charge = -4)\n",
    "ac = model.metabolites.get_by_id('ac_c')\n",
    "coa = model.metabolites.get_by_id('coa_c')\n",
    "polylactic_acid = Metabolite('polylactic_c', formula = 'C3H4O2', name = 'polylactic acid', compartment = 'c')\n"
   ]
  },
  {
   "cell_type": "code",
   "execution_count": 17,
   "metadata": {},
   "outputs": [],
   "source": [
    "#reactions being imported into iJO1366 model\n",
    "\n",
    "#reaction 1: lactate + accoa <-> lactyl_coa + ac\n",
    "reaction1 = Reaction('lactate_laccoa')\n",
    "reaction1.name = 'lactate to lactyl-CoA'\n",
    "reaction1.lower_bound = -1000\n",
    "reaction1.upper_bound = 1000\n",
    "reaction1.add_metabolites({lactate: -1.0, accoa: -1.0, lactyl_coa: 1.0, ac: 1.0})\n",
    "model.add_reaction(reaction1)\n",
    "\n",
    "#reaction 2: lactyl_coa <-> polylactic_acid + coa\n",
    "reaction2 = Reaction('laccoa_polylactic')\n",
    "reaction2.name = 'lactyl-CoA to polylactic acid'\n",
    "reaction2.lower_bound = -1000\n",
    "reaction2.upper_bound = 1000\n",
    "reaction2.add_metabolites({lactyl_coa: -1.0, polylactic_acid: 1.0, coa: 1.0})\n",
    "model.add_reaction(reaction2)\n",
    "\n",
    "#reaction 3: polylactic_acid ->\n",
    "reaction3 = Reaction('EX_polylactic_e')\n",
    "reaction3.name = 'polylactic acid consumption'\n",
    "reaction3.lower_bound = 0\n",
    "reaction3.upper_bound = 1000\n",
    "reaction3.add_metabolites({polylactic_acid: -1.0})\n",
    "model.add_reaction(reaction3)\n"
   ]
  },
  {
   "cell_type": "code",
   "execution_count": 18,
   "metadata": {},
   "outputs": [
    {
     "name": "stdout",
     "output_type": "stream",
     "text": [
      "16.462328767123285\n"
     ]
    }
   ],
   "source": [
    "#optimum flux calculation\n",
    "model.objective = 'EX_polylactic_e'\n",
    "max_flux = 0\n",
    "max_flux=(model.optimize(objective_sense='maximize').objective_value)\n",
    "print(max_flux)"
   ]
  },
  {
   "cell_type": "code",
   "execution_count": 19,
   "metadata": {},
   "outputs": [
    {
     "data": {
      "text/html": [
       "<div>\n",
       "<style scoped>\n",
       "    .dataframe tbody tr th:only-of-type {\n",
       "        vertical-align: middle;\n",
       "    }\n",
       "\n",
       "    .dataframe tbody tr th {\n",
       "        vertical-align: top;\n",
       "    }\n",
       "\n",
       "    .dataframe thead tr th {\n",
       "        text-align: left;\n",
       "    }\n",
       "</style>\n",
       "<table border=\"1\" class=\"dataframe\">\n",
       "  <thead>\n",
       "    <tr>\n",
       "      <th></th>\n",
       "      <th colspan=\"2\" halign=\"left\">IN_FLUXES</th>\n",
       "      <th colspan=\"2\" halign=\"left\">OUT_FLUXES</th>\n",
       "      <th colspan=\"2\" halign=\"left\">OBJECTIVES</th>\n",
       "    </tr>\n",
       "    <tr>\n",
       "      <th></th>\n",
       "      <th>ID</th>\n",
       "      <th>FLUX</th>\n",
       "      <th>ID</th>\n",
       "      <th>FLUX</th>\n",
       "      <th>ID</th>\n",
       "      <th>FLUX</th>\n",
       "    </tr>\n",
       "  </thead>\n",
       "  <tbody>\n",
       "    <tr>\n",
       "      <th>0</th>\n",
       "      <td>o2_e</td>\n",
       "      <td>10.613014</td>\n",
       "      <td>h2o_e</td>\n",
       "      <td>27.075342</td>\n",
       "      <td>EX_polylactic_e</td>\n",
       "      <td>16.462329</td>\n",
       "    </tr>\n",
       "    <tr>\n",
       "      <th>1</th>\n",
       "      <td>glc__D_e</td>\n",
       "      <td>10.000000</td>\n",
       "      <td>co2_e</td>\n",
       "      <td>10.613014</td>\n",
       "      <td>NaN</td>\n",
       "      <td>NaN</td>\n",
       "    </tr>\n",
       "  </tbody>\n",
       "</table>\n",
       "</div>"
      ],
      "text/plain": [
       "<cobra.core.summary.model_summary.ModelSummary at 0x102ffb0898>"
      ]
     },
     "execution_count": 19,
     "metadata": {},
     "output_type": "execute_result"
    }
   ],
   "source": [
    "model.summary()"
   ]
  },
  {
   "cell_type": "code",
   "execution_count": 20,
   "metadata": {},
   "outputs": [
    {
     "name": "stdout",
     "output_type": "stream",
     "text": [
      "EX_polylactic_e: polylactic_c --> \n"
     ]
    }
   ],
   "source": [
    "for i in range(-1,-4,-1):\n",
    "    if model.reactions[i].check_mass_balance() == {}:\n",
    "        pass\n",
    "    else:\n",
    "        print(model.reactions[i])"
   ]
  },
  {
   "cell_type": "code",
   "execution_count": 21,
   "metadata": {},
   "outputs": [],
   "source": [
    "cobra.io.write_sbml_model(model, \"polylactic_acid.xml\")"
   ]
  },
  {
   "cell_type": "code",
   "execution_count": null,
   "metadata": {},
   "outputs": [],
   "source": []
  }
 ],
 "metadata": {
  "kernelspec": {
   "display_name": "Python 3",
   "language": "python",
   "name": "python3"
  },
  "language_info": {
   "codemirror_mode": {
    "name": "ipython",
    "version": 3
   },
   "file_extension": ".py",
   "mimetype": "text/x-python",
   "name": "python",
   "nbconvert_exporter": "python",
   "pygments_lexer": "ipython3",
   "version": "3.6.10"
  }
 },
 "nbformat": 4,
 "nbformat_minor": 4
}
