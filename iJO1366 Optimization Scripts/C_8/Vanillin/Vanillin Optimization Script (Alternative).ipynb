{
 "cells": [
  {
   "cell_type": "code",
   "execution_count": 43,
   "metadata": {},
   "outputs": [],
   "source": [
    "from cobra import Metabolite\n",
    "from cobra import Reaction\n",
    "import cameo\n",
    "import cobra"
   ]
  },
  {
   "cell_type": "code",
   "execution_count": 44,
   "metadata": {},
   "outputs": [],
   "source": [
    "#importing iJO1366 model\n",
    "model = cameo.models.bigg.iJO1366\n",
    "model.reactions.EX_co2_e.lower_bound = 0\n",
    "\n",
    "#metabolite declaration\n",
    "dhsk = model.metabolites.get_by_id('3dhsk_c')\n",
    "dhbz = Metabolite('34dhbz_c', formula = 'C7H5O4', name = '3,4-dihydroxybenzoate', charge = -1, compartment = 'c')\n",
    "h2o = model.metabolites.get_by_id('h2o_c')\n",
    "nad = model.metabolites.get_by_id('nad_c')\n",
    "H = model.metabolites.get_by_id('h_c')\n",
    "nadh = model.metabolites.get_by_id('nadh_c')\n",
    "fald = model.metabolites.get_by_id('fald_c')\n",
    "vanlt = Metabolite('vanlt_c', formula = 'C8H7O4', name = 'vanillate', charge = -1, compartment = 'c')\n",
    "o2 = model.metabolites.get_by_id('o2_c')\n",
    "vanillin = Metabolite('vanln_c', formula = 'C8H8O3', name = 'vanillin', compartment = 'c')\n",
    "g3p = model.metabolites.get_by_id('g3p_c')\n",
    "dha = model.metabolites.get_by_id('dha_c')\n",
    "xu = model.metabolites.get_by_id('xu5p__D_c')\n"
   ]
  },
  {
   "cell_type": "code",
   "execution_count": 45,
   "metadata": {},
   "outputs": [],
   "source": [
    "#inputting reactions into iJO1366\n",
    "\n",
    "#reaction 0: g3p + dha <-> xu + fald\n",
    "reaction0 = Reaction('fald_form')\n",
    "reaction0.name = 'formaldehyde formation'\n",
    "reaction0.lower_bound = 0\n",
    "reaction0.upper_bound = 1000\n",
    "reaction0.add_metabolites({g3p: -1.0, dha: -1.0, xu: 1.0, fald: 1.0})\n",
    "model.add_reaction(reaction0)\n",
    "\n",
    "#reaction 1: dhsk <-> dhbz + h2o\n",
    "reaction1 = Reaction('dhsk_dhbz')\n",
    "reaction1.name = '3-dehydroshikimate to 3,4-dihydroxybenzoate'\n",
    "reaction1.lower_bound = 0\n",
    "reaction1.upper_bound = 1000\n",
    "reaction1.add_metabolites({dhsk: -1.0, dhbz: 1.0, h2o: 1.0})\n",
    "model.add_reaction(reaction1)\n",
    "\n",
    "#reaction 2: dhbz + nad + h2o + fald <-> vanlt + o2 + nadh + H\n",
    "reaction2 = Reaction('dhbz_vanlt')\n",
    "reaction2.name = '3,4-dihydroxybenzoate to vanillate'\n",
    "reaction2.lower_bound = 0\n",
    "reaction2.upper_bound = 1000\n",
    "reaction2.add_metabolites({dhbz: -1.0, nad: -1.0, h2o: -1.0, fald: -1.0, vanlt: 1.0, o2: 1.0, nadh: 1.0, H: 1.0})\n",
    "model.add_reaction(reaction2)\n",
    "\n",
    "#reaction 3: vanlt + nadh + H <-> vanillin + nad + h2o\n",
    "reaction3 = Reaction('vanlt_vanillin')\n",
    "reaction3.name = 'vanillate to vanillin'\n",
    "reaction3.lower_bound = 0\n",
    "reaction3.upper_bound = 1000\n",
    "reaction3.add_metabolites({vanlt: -1.0, nadh: -1.0, H: -2.0, vanillin: 1.0, nad: 1.0, h2o: 1.0})\n",
    "model.add_reaction(reaction3)\n",
    "\n",
    "#reaction 4: vanillin <->\n",
    "reaction4 = Reaction('EX_vanln_e')\n",
    "reaction4.name = 'vanillin consumption'\n",
    "reaction4.lower_bound = 0\n",
    "reaction4.upper_bound = 1000\n",
    "reaction4.add_metabolites({vanillin: -1.0})\n",
    "model.add_reaction(reaction4)\n"
   ]
  },
  {
   "cell_type": "code",
   "execution_count": 46,
   "metadata": {},
   "outputs": [
    {
     "name": "stdout",
     "output_type": "stream",
     "text": [
      "7.499199999999999\n"
     ]
    }
   ],
   "source": [
    "#optimum flux calculation\n",
    "model.objective = 'EX_vanln_e'\n",
    "max_flux = 0\n",
    "max_flux=(model.optimize(objective_sense='maximize').objective_value)\n",
    "print(max_flux)"
   ]
  },
  {
   "cell_type": "code",
   "execution_count": 47,
   "metadata": {},
   "outputs": [
    {
     "data": {
      "text/html": [
       "<div>\n",
       "<style scoped>\n",
       "    .dataframe tbody tr th:only-of-type {\n",
       "        vertical-align: middle;\n",
       "    }\n",
       "\n",
       "    .dataframe tbody tr th {\n",
       "        vertical-align: top;\n",
       "    }\n",
       "\n",
       "    .dataframe thead tr th {\n",
       "        text-align: left;\n",
       "    }\n",
       "</style>\n",
       "<table border=\"1\" class=\"dataframe\">\n",
       "  <thead>\n",
       "    <tr>\n",
       "      <th></th>\n",
       "      <th colspan=\"2\" halign=\"left\">IN_FLUXES</th>\n",
       "      <th colspan=\"2\" halign=\"left\">OUT_FLUXES</th>\n",
       "      <th colspan=\"2\" halign=\"left\">OBJECTIVES</th>\n",
       "    </tr>\n",
       "    <tr>\n",
       "      <th></th>\n",
       "      <th>ID</th>\n",
       "      <th>FLUX</th>\n",
       "      <th>ID</th>\n",
       "      <th>FLUX</th>\n",
       "      <th>ID</th>\n",
       "      <th>FLUX</th>\n",
       "    </tr>\n",
       "  </thead>\n",
       "  <tbody>\n",
       "    <tr>\n",
       "      <th>0</th>\n",
       "      <td>glc__D_e</td>\n",
       "      <td>10.0</td>\n",
       "      <td>h2o_e</td>\n",
       "      <td>30.0032</td>\n",
       "      <td>EX_vanln_e</td>\n",
       "      <td>7.4992</td>\n",
       "    </tr>\n",
       "    <tr>\n",
       "      <th>1</th>\n",
       "      <td>NaN</td>\n",
       "      <td>NaN</td>\n",
       "      <td>o2_e</td>\n",
       "      <td>3.7432</td>\n",
       "      <td>NaN</td>\n",
       "      <td>NaN</td>\n",
       "    </tr>\n",
       "  </tbody>\n",
       "</table>\n",
       "</div>"
      ],
      "text/plain": [
       "<cobra.core.summary.model_summary.ModelSummary at 0x1029bfb0f0>"
      ]
     },
     "execution_count": 47,
     "metadata": {},
     "output_type": "execute_result"
    }
   ],
   "source": [
    "model.summary()"
   ]
  },
  {
   "cell_type": "code",
   "execution_count": 48,
   "metadata": {},
   "outputs": [
    {
     "data": {
      "text/html": [
       "\n",
       "        <table>\n",
       "            <tr>\n",
       "                <td><strong>Reaction identifier</strong></td><td>EX_vanln_e</td>\n",
       "            </tr><tr>\n",
       "                <td><strong>Name</strong></td><td>vanillin consumption</td>\n",
       "            </tr><tr>\n",
       "                <td><strong>Memory address</strong></td>\n",
       "                <td>0x010417f2c88</td>\n",
       "            </tr><tr>\n",
       "                <td><strong>Stoichiometry</strong></td>\n",
       "                <td>\n",
       "                    <p style='text-align:right'>vanln_c --> </p>\n",
       "                    <p style='text-align:right'>vanillin --> </p>\n",
       "                </td>\n",
       "            </tr><tr>\n",
       "                <td><strong>GPR</strong></td><td></td>\n",
       "            </tr><tr>\n",
       "                <td><strong>Lower bound</strong></td><td>0</td>\n",
       "            </tr><tr>\n",
       "                <td><strong>Upper bound</strong></td><td>1000</td>\n",
       "            </tr>\n",
       "        </table>\n",
       "        "
      ],
      "text/plain": [
       "<Reaction EX_vanln_e at 0x10417f2c88>"
      ]
     },
     "execution_count": 48,
     "metadata": {},
     "output_type": "execute_result"
    }
   ],
   "source": [
    "reaction4"
   ]
  },
  {
   "cell_type": "code",
   "execution_count": 49,
   "metadata": {},
   "outputs": [],
   "source": [
    "cobra.io.write_sbml_model(model, \"vanillin_alternative.xml\")"
   ]
  },
  {
   "cell_type": "code",
   "execution_count": 50,
   "metadata": {},
   "outputs": [
    {
     "data": {
      "text/plain": [
       "152.14731999999998"
      ]
     },
     "execution_count": 50,
     "metadata": {},
     "output_type": "execute_result"
    }
   ],
   "source": [
    "vanillin.formula_weight"
   ]
  },
  {
   "cell_type": "code",
   "execution_count": null,
   "metadata": {},
   "outputs": [],
   "source": []
  }
 ],
 "metadata": {
  "kernelspec": {
   "display_name": "Python 3",
   "language": "python",
   "name": "python3"
  },
  "language_info": {
   "codemirror_mode": {
    "name": "ipython",
    "version": 3
   },
   "file_extension": ".py",
   "mimetype": "text/x-python",
   "name": "python",
   "nbconvert_exporter": "python",
   "pygments_lexer": "ipython3",
   "version": "3.6.10"
  }
 },
 "nbformat": 4,
 "nbformat_minor": 4
}
