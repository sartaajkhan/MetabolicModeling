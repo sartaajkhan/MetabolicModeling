{
 "cells": [
  {
   "cell_type": "code",
   "execution_count": 11,
   "metadata": {},
   "outputs": [],
   "source": [
    "from cobra import Metabolite\n",
    "from cobra import Reaction\n",
    "import cameo\n",
    "import cobra"
   ]
  },
  {
   "cell_type": "code",
   "execution_count": 12,
   "metadata": {},
   "outputs": [],
   "source": [
    "#importing iJO1366 model\n",
    "model = cameo.models.bigg.iJO1366\n",
    "model.reactions.EX_co2_e.lower_bound = 0\n",
    "\n",
    "#metabolites\n",
    "pacald = model.metabolites.get_by_id('pacald_c')\n",
    "styrene_oxide = Metabolite('styrene_oxide_c', formula='C8H8O', name='styrene oxide', compartment='c')\n",
    "fad = model.metabolites.get_by_id('fad_c')\n",
    "fadh2 = model.metabolites.get_by_id('fadh2_c')\n",
    "h2o = model.metabolites.get_by_id('h2o_c')\n",
    "o2 = model.metabolites.get_by_id('o2_c')\n",
    "styrene = Metabolite('styrene', formula = 'C8H8', name = 'styrene', compartment = 'c')\n"
   ]
  },
  {
   "cell_type": "code",
   "execution_count": 13,
   "metadata": {},
   "outputs": [],
   "source": [
    "#reactions for the phenol pathway for iJO1366 model\n",
    "\n",
    "#reaction 1: pacald <-> styrene oxide\n",
    "reaction1 = Reaction('pacald_styrene_oxide')\n",
    "reaction1.name = 'pacald to styrene oxide'\n",
    "reaction1.lower_bound = 0\n",
    "reaction1.upper_bound = 1000\n",
    "reaction1.add_metabolites({pacald: -1.0, styrene_oxide: 1.0})\n",
    "model.add_reaction(reaction1)\n",
    "\n",
    "#reaction 2: styrene oxide + FAD + H2O <-> styrene + FADH2 + O2\n",
    "reaction2 = Reaction('styrene_oxide_styrene')\n",
    "reaction2.name = 'styrene oxide to styrene'\n",
    "reaction2.lower_bound = 0\n",
    "reaction2.upper_bound = 1000\n",
    "reaction2.add_metabolites({styrene_oxide: -1.0, fad: -1.0, h2o: -1.0, styrene: 1.0, o2: 1.0, fadh2: 1.0})\n",
    "model.add_reaction(reaction2)\n",
    "\n",
    "#reaction 3: phenol ->\n",
    "reaction3 = Reaction('EX_styrene_e')\n",
    "reaction3.name = 'styrene consumption'\n",
    "reaction3.lower_bound = 0\n",
    "reaction3.upper_bound = 1000\n",
    "reaction3.add_metabolites({styrene: -1.0})\n",
    "model.add_reaction(reaction3)"
   ]
  },
  {
   "cell_type": "code",
   "execution_count": 14,
   "metadata": {},
   "outputs": [
    {
     "name": "stdout",
     "output_type": "stream",
     "text": [
      "0.0\n"
     ]
    }
   ],
   "source": [
    "#optimum flux calculation\n",
    "model.objective = 'EX_styrene_e'\n",
    "max_flux = 0\n",
    "max_flux=(model.optimize(objective_sense='maximize').objective_value)\n",
    "print(max_flux)"
   ]
  },
  {
   "cell_type": "code",
   "execution_count": 17,
   "metadata": {},
   "outputs": [
    {
     "data": {
      "text/plain": [
       "{'C': -8.0, 'H': -8.0}"
      ]
     },
     "execution_count": 17,
     "metadata": {},
     "output_type": "execute_result"
    }
   ],
   "source": [
    "reaction3.check_mass_balance()"
   ]
  },
  {
   "cell_type": "code",
   "execution_count": null,
   "metadata": {},
   "outputs": [],
   "source": []
  }
 ],
 "metadata": {
  "kernelspec": {
   "display_name": "Python 3",
   "language": "python",
   "name": "python3"
  },
  "language_info": {
   "codemirror_mode": {
    "name": "ipython",
    "version": 3
   },
   "file_extension": ".py",
   "mimetype": "text/x-python",
   "name": "python",
   "nbconvert_exporter": "python",
   "pygments_lexer": "ipython3",
   "version": "3.6.10"
  }
 },
 "nbformat": 4,
 "nbformat_minor": 4
}
