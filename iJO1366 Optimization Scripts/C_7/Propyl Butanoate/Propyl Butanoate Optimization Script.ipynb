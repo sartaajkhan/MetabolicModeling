{
 "cells": [
  {
   "cell_type": "code",
   "execution_count": 8,
   "metadata": {},
   "outputs": [],
   "source": [
    "from cobra import Metabolite\n",
    "from cobra import Reaction\n",
    "import cameo\n",
    "import cobra"
   ]
  },
  {
   "cell_type": "code",
   "execution_count": 9,
   "metadata": {},
   "outputs": [],
   "source": [
    "#importing iJO1366 model\n",
    "model = cameo.models.bigg.iJO1366\n",
    "model.reactions.EX_co2_e.lower_bound = 0\n",
    "\n",
    "#metabolite declaration\n",
    "accoa = model.metabolites.get_by_id('accoa_c')\n",
    "nadh = model.metabolites.get_by_id('nadh_c')\n",
    "oaa = model.metabolites.get_by_id('oaa_c')\n",
    "glu = model.metabolites.get_by_id('glu__L_c')\n",
    "atp = model.metabolites.get_by_id('atp_c')\n",
    "nadph = model.metabolites.get_by_id('nadph_c')\n",
    "akg = model.metabolites.get_by_id('akg_c')\n",
    "propyl_but = Metabolite('propyl_but_c', formula = 'C7H14O2', name = 'propyl butanoate', compartment = 'c')\n",
    "h2o = model.metabolites.get_by_id('h2o_c')\n",
    "H = model.metabolites.get_by_id('h_c')\n",
    "coa = model.metabolites.get_by_id('coa_c')\n",
    "pyr = model.metabolites.get_by_id('pyr_c')\n",
    "nad = model.metabolites.get_by_id('nad_c')"
   ]
  },
  {
   "cell_type": "code",
   "execution_count": 10,
   "metadata": {},
   "outputs": [],
   "source": [
    "#reaction 1: 2 accoa + 3 nadh + oaa + glu + 2 atp + 2 nadph → akg + propyl butanoate \n",
    "reaction1 = Reaction('propyl_form')\n",
    "reaction1.name = 'propyl butanoate formation'\n",
    "reaction1.lower_bound = -1000\n",
    "reaction1.upper_bound = 1000\n",
    "reaction1.add_metabolites({accoa: -3.0, oaa: -1.0, nadh: -7.0, H: -8.0, propyl_but: 1.0, coa: 3.0, pyr: 1.0, h2o: 3.0, nad: 7.0})\n",
    "model.add_reaction(reaction1)\n",
    "\n",
    "#reaction 2: propyl butanoate ->\n",
    "reaction2 = Reaction('EX_propyl_but_e')\n",
    "reaction2.name = 'propyl butanoate consumption'\n",
    "reaction2.lower_bound = 0\n",
    "reaction2.upper_bound = 1000\n",
    "reaction2.add_metabolites({propyl_but: -1.0})\n",
    "model.add_reaction(reaction2)\n"
   ]
  },
  {
   "cell_type": "code",
   "execution_count": 4,
   "metadata": {},
   "outputs": [
    {
     "name": "stdout",
     "output_type": "stream",
     "text": [
      "6.315789473684211\n"
     ]
    }
   ],
   "source": [
    "#optimum flux calculation\n",
    "model.objective = 'EX_propyl_but_e'\n",
    "max_flux = 0\n",
    "max_flux=(model.optimize(objective_sense='maximize').objective_value)\n",
    "print(max_flux)"
   ]
  },
  {
   "cell_type": "code",
   "execution_count": 5,
   "metadata": {},
   "outputs": [
    {
     "data": {
      "text/html": [
       "<div>\n",
       "<style scoped>\n",
       "    .dataframe tbody tr th:only-of-type {\n",
       "        vertical-align: middle;\n",
       "    }\n",
       "\n",
       "    .dataframe tbody tr th {\n",
       "        vertical-align: top;\n",
       "    }\n",
       "\n",
       "    .dataframe thead tr th {\n",
       "        text-align: left;\n",
       "    }\n",
       "</style>\n",
       "<table border=\"1\" class=\"dataframe\">\n",
       "  <thead>\n",
       "    <tr>\n",
       "      <th></th>\n",
       "      <th colspan=\"2\" halign=\"left\">IN_FLUXES</th>\n",
       "      <th colspan=\"2\" halign=\"left\">OUT_FLUXES</th>\n",
       "      <th colspan=\"2\" halign=\"left\">OBJECTIVES</th>\n",
       "    </tr>\n",
       "    <tr>\n",
       "      <th></th>\n",
       "      <th>ID</th>\n",
       "      <th>FLUX</th>\n",
       "      <th>ID</th>\n",
       "      <th>FLUX</th>\n",
       "      <th>ID</th>\n",
       "      <th>FLUX</th>\n",
       "    </tr>\n",
       "  </thead>\n",
       "  <tbody>\n",
       "    <tr>\n",
       "      <th>0</th>\n",
       "      <td>glc__D_e</td>\n",
       "      <td>10.0</td>\n",
       "      <td>h2o_e</td>\n",
       "      <td>15.789474</td>\n",
       "      <td>EX_propyl_but_e</td>\n",
       "      <td>6.315789</td>\n",
       "    </tr>\n",
       "    <tr>\n",
       "      <th>1</th>\n",
       "      <td>NaN</td>\n",
       "      <td>NaN</td>\n",
       "      <td>co2_e</td>\n",
       "      <td>15.789474</td>\n",
       "      <td>NaN</td>\n",
       "      <td>NaN</td>\n",
       "    </tr>\n",
       "  </tbody>\n",
       "</table>\n",
       "</div>"
      ],
      "text/plain": [
       "<cobra.core.summary.model_summary.ModelSummary at 0x10245bdba8>"
      ]
     },
     "execution_count": 5,
     "metadata": {},
     "output_type": "execute_result"
    }
   ],
   "source": [
    "model.summary()"
   ]
  },
  {
   "cell_type": "code",
   "execution_count": 6,
   "metadata": {},
   "outputs": [
    {
     "data": {
      "text/plain": [
       "{}"
      ]
     },
     "execution_count": 6,
     "metadata": {},
     "output_type": "execute_result"
    }
   ],
   "source": [
    "reaction1.check_mass_balance()"
   ]
  },
  {
   "cell_type": "code",
   "execution_count": 7,
   "metadata": {},
   "outputs": [],
   "source": [
    "cobra.io.write_sbml_model(model, \"propyl_butanoate.xml\")"
   ]
  },
  {
   "cell_type": "code",
   "execution_count": null,
   "metadata": {},
   "outputs": [],
   "source": []
  }
 ],
 "metadata": {
  "kernelspec": {
   "display_name": "Python 3",
   "language": "python",
   "name": "python3"
  },
  "language_info": {
   "codemirror_mode": {
    "name": "ipython",
    "version": 3
   },
   "file_extension": ".py",
   "mimetype": "text/x-python",
   "name": "python",
   "nbconvert_exporter": "python",
   "pygments_lexer": "ipython3",
   "version": "3.6.10"
  }
 },
 "nbformat": 4,
 "nbformat_minor": 4
}
