{
 "cells": [
  {
   "cell_type": "code",
   "execution_count": 87,
   "metadata": {},
   "outputs": [],
   "source": [
    "import cameo\n",
    "import cobra\n",
    "from cobra import Metabolite\n",
    "from cobra import Reaction"
   ]
  },
  {
   "cell_type": "code",
   "execution_count": 88,
   "metadata": {},
   "outputs": [
    {
     "name": "stdout",
     "output_type": "stream",
     "text": [
      "['Pyruvate Metabolism', 'Pentose Phosphate Pathway', 'Valine, Leucine, and Isoleucine Metabolism', 'Unassigned', 'Cell Envelope Biosynthesis', 'Methionine Metabolism', 'Transport, Outer Membrane', 'Transport, Outer Membrane Porin', 'Alternate Carbon Metabolism', 'Biomass and maintenance functions', 'Cofactor and Prosthetic Group Biosynthesis', 'Glycolysis/Gluconeogenesis', 'Oxidative Phosphorylation', 'Alanine and Aspartate Metabolism', 'Glycine and Serine Metabolism', 'Transport, Inner Membrane', 'Murein Recycling', 'Membrane Lipid Metabolism', 'Glyoxylate Metabolism', 'Purine and Pyrimidine Biosynthesis', 'Extracellular exchange', 'Citric Acid Cycle', 'tRNA Charging', 'Tyrosine, Tryptophan, and Phenylalanine Metabolism', 'Arginine and Proline Metabolism', 'Murein Biosynthesis', 'Anaplerotic Reactions', 'Nucleotide Salvage Pathway', 'Folate Metabolism', 'Cysteine Metabolism', 'Intracellular demand', 'Glutamate Metabolism', 'Nitrogen Metabolism', 'Glycerophospholipid Metabolism', 'Inorganic Ion Transport and Metabolism', 'Threonine and Lysine Metabolism', 'Methylglyoxal Metabolism', 'Lipopolysaccharide Biosynthesis / Recycling', 'Histidine Metabolism']\n"
     ]
    }
   ],
   "source": [
    "#importing iJO1366 model\n",
    "model = cameo.models.bigg.iJO1366\n",
    "model.reactions.EX_co2_e.lower_bound = 0\n",
    "#model.reactions.ACALD.subsystem\n",
    "\n",
    "#all unique subsystems\n",
    "subsystems = []\n",
    "\n",
    "for i in model.reactions:\n",
    "    subsystems.append(i.subsystem)\n",
    "\n",
    "subsystems = list(set(subsystems))\n",
    "\n",
    "#reaction IDs for suggested subsystems\n",
    "desired_reactions = []\n",
    "undesired_reactions = []\n",
    "for i in model.reactions:\n",
    "    if i.subsystem == 'Alternate Carbon Metabolism':\n",
    "        desired_reactions.append(i)\n",
    "    elif i.subsystem == 'Anaplerotic Reactions':\n",
    "        desired_reactions.append(i)\n",
    "    elif i.subsystem == 'Citric Acid Cycle':\n",
    "        desired_reactions.append(i)\n",
    "    elif i.subsystem == 'Cofactor and Prosthetic Group Biosynthesis':\n",
    "        desired_reactions.append(i)\n",
    "    elif i.subsystem == 'Glycolysis/Gluconeogenesis':\n",
    "        desired_reactions.append(i)\n",
    "    elif i.subsystem == 'Glyoxylate Metabolism':\n",
    "        desired_reactions.append(i)\n",
    "    elif i.subsystem == 'Oxidative Phosphorylation':\n",
    "        desired_reactions.append(i)\n",
    "    elif i.subsystem == 'Pentose Phosphate Pathway':\n",
    "        desired_reactions.append(i)\n",
    "    elif i.subsystem == 'Pyruvate Metabolism':\n",
    "        desired_reactions.append(i)\n",
    "    else:\n",
    "        undesired_reactions.append(i)\n",
    "\n",
    "print(subsystems)"
   ]
  },
  {
   "cell_type": "code",
   "execution_count": 89,
   "metadata": {},
   "outputs": [
    {
     "name": "stdout",
     "output_type": "stream",
     "text": [
      "['2DGULRGx', '2DGULRGy', '2DGULRx', '2DGULRy', '2MAHMP', '5DOAN', 'A5PISO', 'AAMYL', 'AAMYLpp', 'AB6PGH', '3HCINNMH', '3HPPPNH', 'ACACCT', '3KGK', 'ACALD', 'ACBIPGT', 'ACCOAL', 'ACGAL1PPpp', 'ACGAM1PPpp', 'ACKr', 'ACM6PH', '3OXCOAT', 'ACNML', '4HTHRS', '5DGLCNR', 'ACONTa', 'ACONTb', 'ACPS1', 'ACS', 'ADCL', 'ADCS', 'AMALT3', 'AKGDH', 'ADNUC', 'ADOCBIK', 'ADOCBLS', 'ALATA_D2', 'ALATA_L2', 'AMALT4', 'ALCD19', 'ALCD2x', 'AGDC', 'ALDD19xr', 'ALDD2x', 'AMANAPEr', 'ALDD2y', 'ALDD3y', 'ALDD4', 'ALLK', 'ALLPI', 'ALLTAMH', 'AMANK', 'ALLULPE', 'AMAOTr', 'AMMQLT8', 'AMPMS2', 'ALTRH', 'AMALT1', 'AMALT2', 'ASP1DC', 'ASPO3', 'ASPO4', 'ASPO5', 'ASPO6', 'AOXSr2', 'CBIAT', 'CBLAT', 'CCGS', 'ATPS4rpp', 'CDGR', 'BMOCOS', 'BMOGDS1', 'BMOGDS2', 'BSORx', 'BSORy', 'CDGS', 'CDPMEK', 'BTS5', 'BUTCT', 'BWCOGDS1', 'BWCOGDS2', 'BWCOS', 'CHRPL', 'CINNDO', 'CITL', 'CPH4S', 'CPMPS', 'CPPPGO', 'CPPPGO2', 'CRNBTCT', 'CRNCAL2', 'CRNCAR', 'CRNCBCT', 'APRAUR', 'CRNCDH', 'CRNDCAL2', 'ARAI', 'CYTBD2pp', 'CYTBDpp', 'CYTBO3_4pp', 'CYTDH', 'CS', 'CTBTCAL2', 'DAPAL', 'DDGALK', 'DDGLK', 'DDPGALA', 'DHACOAH', 'DB4PS', 'DHAPT', 'DBTS', 'DC6PH', 'DHBD', 'DHBS', 'DHBSH', 'DHCIND', 'DHCINDO', 'DHFR', 'DHFS', 'FFSD', 'DNMPPA', 'DHMPTR', 'DHNAOT4', 'DHNCOAS', 'DNTPPA', 'DOGULNR', 'DHNCOAT', 'DHNPA2r', 'DHNPTE', 'DHPPD', 'DPCOAK', 'DPR', 'DRPA', 'DHPPDA2', 'DHPS2', 'DHPTDNR', 'DHPTDNRN', 'DHPTPE', 'DTARTD', 'DKGLCNR1', 'DKGLCNR2x', 'DXPRIi', 'DXPS', 'DKGLCNR2y', 'DMATT', 'DMPPS', 'DMQMT', 'DXYLK', 'E4PD', 'DMSOR1', 'DMSOR1pp', 'DMSOR2', 'DMSOR2pp', 'ASCBPL', 'FCLK', 'EDA', 'EDD', 'EGMEACPR', 'FCLPA', 'ENO', 'ENTCS', 'EPMEACPR', 'FCLT', 'FDH4pp', 'F6PA', 'F6PP', 'FHL', 'FLVR', 'FDH5pp', 'FLVRx', 'FMNAT', 'FMNRx', 'FMNRx2', 'FORCT', 'FRD2', 'FRD3', 'FRUK', 'FRULYSDG', 'FRULYSE', 'FRULYSK', 'FUM', 'G1PPpp', 'G1SAT', 'G2PP', 'G2PPpp', 'FADRx', 'FADRx2', 'FALDH2', 'FALGTHLs', 'G3PD2', 'G3PD5', 'G3PD6', 'FBA', 'FBA3', 'G3PD7', 'FBP', 'FCI', 'G3PT', 'GGPTRCS', 'G6PDA', 'GLBRAN2', 'GLCATr', 'G6PDH2r', 'G6PP', 'GAL1PPpp', 'GLCDpp', 'GALCTD', 'GALCTLO', 'GALCTND', 'GLCP', 'GLCP2', 'GLCRAL', 'GLCRD', 'GALKr', 'GALM2pp', 'GALS3', 'GLCS1', 'GLDBRAN2', 'GLGC', 'GLTPD', 'GAPD', 'GLUCYS', 'GLUTRR', 'GLUTRS', 'FE3Ri', 'GDPDPK', 'GLXCL', 'GDPTPDP', 'GGGABADr', 'GGGABAH', 'GGPTRCO', 'GTPDPDP', 'GTPDPK', 'GLYCDx', 'GLYCK', 'GLYCLTDx', 'GLYCLTDy', 'GUI1', 'GUI2', 'GUR1PPpp', 'GLYCTO2', 'GLYCTO3', 'GLYCTO4', 'GLYK', 'HADPCOADH3', 'HBZOPT', 'HEMEOS', 'GND', 'GNK', 'HETZK', 'HEX1', 'HEX4', 'HEX7', 'HKNDDH', 'HKNTDH', 'HMBS', 'HMPK1', 'GRTT', 'HOPNTAL', 'GTHOr', 'HPPK2', 'GTHRDHpp', 'HPPPNDO', 'HPYRI', 'HPYRRx', 'HPYRRy', 'GTHS', 'GTPCI', 'GTPCII2', 'FESD1s', 'IPDDI', 'IPDPS', 'FESD2s', 'FESR', 'HXCT', 'HYD1pp', 'HYD2pp', 'HYD3pp', 'LIPOCT', 'HYPOE', 'LIPOS', 'KG6PDC', 'L_LACD2', 'I2FE2SR', 'I2FE2SS', 'I2FE2SS2', 'I2FE2ST', 'I4FE4SR', 'I4FE4ST', 'ICDHyr', 'ICHORS_copy1', 'ICHORS_copy2', 'ICHORT', 'ICL', 'ICYSDS', 'IDOND', 'IDOND2', 'L_LACD3', 'LACZ', 'LACZpp', 'LCADi', 'LCARS', 'LDH_D', 'LDH_D2', 'LYXI', 'LIPAMPL', 'LIPATPT', 'M1PD', 'MALCOAMT', 'MALDDH', 'MALS', 'MALTATr', 'MEPCT', 'MAN6PI', 'MANAO', 'MANPGH', 'MCITD', 'MCITL2', 'MCITS', 'MICITDr', 'MLTG1', 'MLTG2', 'MDH', 'MLTG3', 'MLTG4', 'MDH2', 'MDH3', 'MLTG5', 'ME1', 'ME2', 'MECDPDH5', 'MECDPS', 'MLTP1', 'MLTP2', 'MLTP3', 'MMCD', 'MMM', 'MOADSUx', 'MN6PP', 'MOCDS', 'MOCOS', 'MOGDS', 'MOHMT', 'MOX', 'MPTAT', 'MNNH', 'MPTS', 'MPTSS', 'NADDP', 'NADH10', 'NADH16pp', 'NMNAT', 'NMNDA', 'NMNN', 'NADH17pp', 'NADH18pp', 'NNAM', 'NADH5', 'NADH9', 'NADK', 'NNDMBRT', 'NADN', 'NADPHQR2', 'NADPHQR3', 'NNDPR', 'NADPHQR4', 'NADPPPS', 'NADS1', 'NADTRHD', 'NAMNPP', 'NO3R1pp', 'NO3R2pp', 'OPMEACPS', 'OXCDC', 'OXCOAHDH', 'NTRIR2x', 'OXDHCOAT', 'PACCOAE', 'OAADC', 'PACCOAL', 'OBTFL', 'PANTS', 'OCTDPS', 'OCTNLL', 'OGMEACPD', 'OGMEACPR', 'OGMEACPS', 'OHPBAT', 'OHPHM', 'OMBZLM', 'OMMBLHX', 'OMMBLHX3', 'OMPHHX', 'OMPHHX3', 'OP4ENH', 'OPHBDC', 'PDH', 'PDX5PO2', 'PDX5POi', 'PDX5PS', 'OPHHX', 'OPHHX3', 'OPMEACPD', 'OPMEACPR', 'PDXPP', 'PGI', 'PGK', 'PGL', 'PGLYCP', 'PGM', 'PGMT', 'PERD', 'PFK', 'PFK_2', 'PFK_3', 'PFL', 'PMANM', 'PMDPHT', 'PMEACPE', 'PHYTSpp', 'PMPK', 'PNTK', 'POR5', 'POX', 'PPA', 'PPA2', 'PPAKr', 'PPBNGS', 'PPC', 'PPCDC', 'PPCK', 'PPCSCT', 'PPGPPDP', 'PPK2', 'PPK', 'PPM', 'PPM2', 'PPNCL2', 'PPPGO', 'PPPGO3', 'PPPNDO', 'PPS', 'RPE', 'RPI', 'RZ5PP', 'S2FE2SR', 'S2FE2SS', 'S2FE2SS2', 'S2FE2ST', 'S4FE4SR', 'S4FE4ST', 'PYK', 'SBTPD', 'SCYSDS', 'SEPHCHCS', 'SERASr', 'PTA2', 'PTAr', 'PTPATi', 'QMO2', 'SFGTHi', 'SHCHCS3', 'QMO3', 'SHCHD2', 'SHCHF', 'PYAM5PO', 'PYDAMK', 'PYDXK', 'PYDXNK', 'QULNS', 'PYDXPP', 'R15BPK', 'R1PK', 'R5PP', 'SUCBZL', 'SUCBZS', 'SUCDi', 'SUCOAS', 'R5PPpp', 'THZPSN3', 'TKT1', 'RBFK', 'TKT2', 'RBFSa', 'TMAOR1', 'TMAOR1pp', 'TMAOR2', 'TMAOR2pp', 'TAGURr', 'TALA', 'TARTD', 'TMK', 'RBFSb', 'TMPK', 'TMPPP', 'TAUDO', 'RBK', 'TPI', 'RBK_L1', 'TDP', 'TPRDCOAS', 'TRDR', 'TRE6PH', 'TRE6PP', 'TRE6PS', 'RBP4E', 'TREH', 'TREHpp', 'TGBPA', 'THD2pp', 'REPHACCOAI', 'TRSARr', 'TYRL', 'ThDPAT', 'UACGALPpp', 'URIH', 'UACGAMPpp', 'WCOS', 'UDCPDPS', 'X5PL3E', 'UDPG4E', 'UDPGALPpp', 'XYLI1', 'XYLI2', 'XYLK', 'XYLK2', 'UDPGPpp', 'RMI', 'UGLCURPpp', 'RMK', 'UGLT', 'UPP3MT', 'UPP3S', 'RMPA', 'UPPDC1', 'URDGLYCD']\n"
     ]
    }
   ],
   "source": [
    "reactionID = []\n",
    "for i in desired_reactions:\n",
    "    reactionID.append(i.id)\n",
    "\n",
    "print(reactionID)"
   ]
  },
  {
   "cell_type": "code",
   "execution_count": null,
   "metadata": {},
   "outputs": [],
   "source": []
  }
 ],
 "metadata": {
  "kernelspec": {
   "display_name": "Python 3",
   "language": "python",
   "name": "python3"
  },
  "language_info": {
   "codemirror_mode": {
    "name": "ipython",
    "version": 3
   },
   "file_extension": ".py",
   "mimetype": "text/x-python",
   "name": "python",
   "nbconvert_exporter": "python",
   "pygments_lexer": "ipython3",
   "version": "3.7.6"
  }
 },
 "nbformat": 4,
 "nbformat_minor": 4
}
