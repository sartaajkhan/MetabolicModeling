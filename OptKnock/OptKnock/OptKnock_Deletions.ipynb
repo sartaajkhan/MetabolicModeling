{
 "cells": [
  {
   "cell_type": "markdown",
   "metadata": {},
   "source": [
    "# <center>Other FBAs and Deletions</center>#\n",
    "\n",
    "### pFBA ###\n",
    "\n",
    "We've seen that FBA generates A steady state flux distribution where biomass is maximized. FVA has taught us that there are multiple possible solutions to an FBA problem. You may observe in FVA results that some reactions's fluxes can span the entire range of possible flux values. This is sometimes, a result of thermodynamically infeasible loops in metabolic networks. Several possible solutions have been proposed to eliminate such loops. One such method is pFBA - parsimonious Flux balance analysis - minimization of the sum of absolute value of fluxes subject to the normal FBA constraints. Let's see how pFBA works"
   ]
  },
  {
   "cell_type": "code",
   "execution_count": null,
   "metadata": {},
   "outputs": [],
   "source": [
    "import cameo\n",
    "import cobra\n",
    "from cameo.strain_design import OptKnock\n",
    "from cameo.flux_analysis import lmoma,room"
   ]
  },
  {
   "cell_type": "code",
   "execution_count": null,
   "metadata": {},
   "outputs": [],
   "source": [
    "model = cameo.models.bigg.e_coli_core\n",
    "fbaresult = cameo.fba(model)\n",
    "pfbaresult = cameo.pfba(model)\n",
    "print(\"Sum of FBA Fluxes\",abs(fbaresult.data_frame.flux).sum())\n",
    "print(\"Sum of pFBA Fluxes\",abs(pfbaresult.data_frame.flux).sum())\n"
   ]
  },
  {
   "cell_type": "markdown",
   "metadata": {},
   "source": [
    "The pFBA problem here, is not that useful since the sum of fluxes is reduced only slightly. This means that FBA on the model already predicted a flux distribution without any loops. However, there are some metabolic models that will result in \"loopy\" fluxes upon running FBA. pFBA is useful in these cases to get realistic flux distributions. In fact, it may be useful to always run pFBA/loopless FBA in addition to FBA to ensure we don't get any infeasible flux distributions."
   ]
  },
  {
   "cell_type": "markdown",
   "metadata": {},
   "source": [
    "### Simulating Gene/Reaction Knockouts ###\n",
    "\n",
    "We may wish to model metabolism in a mutant strain where a particular gene has been knocked out. Cameo/cobra allow us to delete reactions by setting their upper and lower bounds to zero. To knockout a gene, use the syntax: <i>model.genes.\"GeneID\".knock_out()</i>. To knockout a reaction, use the syntax: <i>model.reactions.\"ReactionID\".knock_out()</i>"
   ]
  },
  {
   "cell_type": "code",
   "execution_count": null,
   "metadata": {},
   "outputs": [],
   "source": [
    "model = cameo.models.bigg.e_coli_core\n",
    "print('Growth Rate for WT:', cameo.fba(model).fluxes['BIOMASS_Ecoli_core_w_GAM'])\n",
    "\n",
    "#The with command in python allows you to reversibly modify variables. After the block within the with command,\n",
    "# the variable returns to its original form\n",
    "with model:\n",
    "    model.reactions.PFK.knock_out()\n",
    "    print('Growth Rate with pfk knocked out:', cameo.fba(model).fluxes['BIOMASS_Ecoli_core_w_GAM'])"
   ]
  },
  {
   "cell_type": "markdown",
   "metadata": {},
   "source": [
    "In the above example, we predict the growth rate of wild type <i>E.coli</i> and compare it to the growth rate of <i>E.coli</i> with pfk (phospho-fructokinase) knocked out. \n",
    "\n",
    "Here, FBA on knockout strains can be used reliably only to predict whether a particular gene/reaction is essential to the model. Hence, in this case, FBA predicts that <i>E.coli</i> can grow even if pfk is knocked out."
   ]
  },
  {
   "cell_type": "markdown",
   "metadata": {},
   "source": [
    "Cobra helps us predict which reactions are essential for the model. For this, cobra deletes each reaction in the model and solves the model using FBA to predict the growth rate. If the growth rate is zero or near zero, we can conclude that the particular reaction is essential. If the solver status is \"infeasible\", cobra was unable to perform FBA on the model. Usually, the solver status will be infeasible for cases where glucose transport reactions are blocked."
   ]
  },
  {
   "cell_type": "code",
   "execution_count": null,
   "metadata": {},
   "outputs": [],
   "source": [
    "deletion_result = cobra.flux_analysis.single_reaction_deletion(model)\n"
   ]
  },
  {
   "cell_type": "markdown",
   "metadata": {},
   "source": [
    "The above line of code displays the objective reaction flux and solver status for each knocked out reaction. If we're interested in how many essential reactions there are, we simply look for those knockouts where the objective reaction flux is close to zero."
   ]
  },
  {
   "cell_type": "code",
   "execution_count": null,
   "metadata": {},
   "outputs": [],
   "source": [
    "lethal_deletions = deletion_result[deletion_result['growth']<1e-5]\n",
    "print(\"No. of essential reactions in the core model: \",len(lethal_deletions)-1)\n"
   ]
  },
  {
   "cell_type": "markdown",
   "metadata": {},
   "source": [
    "Note that the number of essential reactions changes with environmental conditions and flux bounds on other reactions. This means that the number of essential reactions under aerobic conditions will be different from the number of essential reactions under anaerobic conditions"
   ]
  },
  {
   "cell_type": "markdown",
   "metadata": {},
   "source": [
    "### Predicting Gene Knockouts - OptKnock###\n",
    "\n",
    "Why would we knock out genes in the first place? It helps us modify metabolism in an organism. We can make a microbe produce a certain chemical that it normally does not or increase the yield of a certain chemical at its optimum growth conditions. OptKnock is one such method that predicts knockout strategies that allows us to couple production of a certain chemical to an organism's growth. Let's see how it works for the case of ethanol production in E.coli. \n",
    "\n",
    "Note: DO NOT ATTEMPT TO RUN OPTKNOCK ON GENOME SCALE MODELS on your laptop. It will take forever to run using the free solvers and low CPU power. If you are interested in predicting knockout strategies for genome scale models, you may need to gain access to very powerful computers.\n"
   ]
  },
  {
   "cell_type": "code",
   "execution_count": null,
   "metadata": {},
   "outputs": [],
   "source": [
    "optknock = cameo.strain_design.OptKnock(model,fraction_of_optimum=0.1)\n",
    "result = optknock.run(max_knockouts = 3, target=\"EX_lac__D_e\", biomass=\"BIOMASS_Ecoli_core_w_GAM\")\n",
    "result.plot()\n",
    "display(result.data_frame)"
   ]
  },
  {
   "cell_type": "markdown",
   "metadata": {},
   "source": [
    "In this case, OptKnock predicts 3 possible single gene deletions that couple growth to production of ethanol in E.coli's core metabolism. Hence, IF these deletions are made and E.coli grows at its optimum growth rate, lactic acid will be produced. Guess what reactions have been predicted by OptKnock - use BiGG to figure out which metabolic processes they're involved in.\n",
    "\n",
    "Now, let's take a core model of E.coli and confirm that this actually happens:"
   ]
  },
  {
   "cell_type": "code",
   "execution_count": null,
   "metadata": {},
   "outputs": [],
   "source": [
    "model = cameo.models.bigg.e_coli_core\n",
    "model.reactions.EX_co2_e.lower_bound = 0\n",
    "result = cameo.phenotypic_phase_plane(model,variables=[model.reactions.BIOMASS_Ecoli_core_w_GAM],\n",
    "                                      objective=model.reactions.EX_etoh_e,points=10)\n",
    "print(\"WildType\")\n",
    "result.plot()\n",
    "with model:\n",
    "    model.reactions.CYTBD.knock_out()\n",
    "    result = cameo.phenotypic_phase_plane(model,variables=[model.reactions.BIOMASS_Ecoli_core_w_GAM],\n",
    "                                      objective=model.reactions.EX_etoh_e,points=10)\n",
    "    print(\"CYTBDMutant\")\n",
    "    result.plot()"
   ]
  },
  {
   "cell_type": "markdown",
   "metadata": {},
   "source": [
    "Running FBA on a mutant will optimize for the growth rate and therefore result in a flux through the growth coupled reaction. However, this may not be observed experimentally. (WHY? Cells are optimize for growth and at maximum growth, there should be flux through the target reaction. However, flux through the target reaction is sometimes lower than what is expected. Why does this not happen?"
   ]
  },
  {
   "cell_type": "markdown",
   "metadata": {},
   "source": [
    "### Simulating Gene Deletions - MOMA/ Minimization of Metabolic Adjustment ###\n",
    "\n",
    "MOMA seems to predict the phenotype of deletion mutants better than pFBA/FBA or other growth optimization strategies."
   ]
  },
  {
   "cell_type": "code",
   "execution_count": null,
   "metadata": {},
   "outputs": [],
   "source": [
    "with model:\n",
    "    ref_flux = cameo.fba(model).fluxes\n",
    "    model.reactions.EX_o2_e.knock_out()\n",
    "    moma_result = cameo.flux_analysis.simulation.lmoma(model,reference = ref_flux)\n",
    "    fba_result = cameo.fba(model)\n",
    "    fba_biomass = fba_result.fluxes['BIOMASS_Ecoli_core_w_GAM']\n",
    "    fba_etoh = fba_result.fluxes['EX_etoh_e']\n",
    "    moma_biomass = moma_result.fluxes['BIOMASS_Ecoli_core_w_GAM']\n",
    "    moma_etoh = moma_result.fluxes['EX_etoh_e']\n",
    "    result = cameo.phenotypic_phase_plane\n",
    "    result = cameo.phenotypic_phase_plane(model,variables=[model.reactions.BIOMASS_Ecoli_core_w_GAM],\n",
    "                                      objective=model.reactions.EX_etoh_e,points=10)\n",
    "    result.plot(points=[(fba_biomass,fba_etoh), (moma_biomass,moma_etoh)], points_colors=[\"green\", \"red\"])\n",
    "    print(\"Growth rate predicted by FBA for an anaerobic strain: \", fba_biomass)\n",
    "    print(\"Ethanol flux predicted by FBA for an anaerobic strain: \", fba_etoh)\n",
    "    print(\"Growth rate predicted by MOMA for an anaerobic strain: \", moma_biomass)\n",
    "    print(\"Ethanol flux predicted by MOMA for an anaerobic strainP \", moma_etoh)\n",
    "    \n",
    "    \n"
   ]
  },
  {
   "cell_type": "code",
   "execution_count": null,
   "metadata": {},
   "outputs": [],
   "source": [
    "model = cameo.models.bigg.e_coli_core\n",
    "with model:\n",
    "    for reaction in model.reactions:\n",
    "        if reaction.upper_bound == 1000:\n",
    "            reaction.upper_bound = 99999999\n",
    "        if reaction.lower_bound == -1000:\n",
    "            reaction.lower_bound = -99999999\n",
    "    ref_flux = cameo.fba(model).fluxes\n",
    "    model.reactions.EX_o2_e.knock_out()\n",
    "    room_result = cameo.flux_analysis.simulation.room(model,reference = ref_flux)\n",
    "    fba_result = cameo.fba(model)\n",
    "    fba_biomass = fba_result.fluxes['BIOMASS_Ecoli_core_w_GAM']\n",
    "    fba_etoh = fba_result.fluxes['EX_etoh_e']\n",
    "    room_biomass = room_result.fluxes['BIOMASS_Ecoli_core_w_GAM']\n",
    "    room_etoh = room_result.fluxes['EX_etoh_e']\n",
    "    result = cameo.phenotypic_phase_plane\n",
    "    result = cameo.phenotypic_phase_plane(model,variables=[model.reactions.BIOMASS_Ecoli_core_w_GAM],\n",
    "                                      objective=model.reactions.EX_etoh_e,points=10)\n",
    "    result.plot(points=[(fba_biomass,fba_etoh), (room_biomass,room_etoh)], points_colors=[\"green\", \"red\"])\n",
    "    print(\"Growth rate predicted by FBA for an anaerobic strain: \", fba_biomass)\n",
    "    print(\"Ethanol flux predicted by FBA for an anaerobic strain: \", fba_etoh)\n",
    "    print(\"Growth rate predicted by ROOM for an anaerobic strain: \", room_biomass)\n",
    "    print(\"Ethanol flux predicted by ROOM for an anaerobic strainP \", room_etoh)\n",
    "    \n",
    "    \n"
   ]
  },
  {
   "cell_type": "code",
   "execution_count": null,
   "metadata": {},
   "outputs": [],
   "source": []
  }
 ],
 "metadata": {
  "kernelspec": {
   "display_name": "Python 3",
   "language": "python",
   "name": "python3"
  },
  "language_info": {
   "codemirror_mode": {
    "name": "ipython",
    "version": 3
   },
   "file_extension": ".py",
   "mimetype": "text/x-python",
   "name": "python",
   "nbconvert_exporter": "python",
   "pygments_lexer": "ipython3",
   "version": "3.7.3"
  }
 },
 "nbformat": 4,
 "nbformat_minor": 2
}
