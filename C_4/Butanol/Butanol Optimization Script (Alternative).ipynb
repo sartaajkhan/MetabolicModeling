{
 "cells": [
  {
   "cell_type": "code",
   "execution_count": 13,
   "metadata": {},
   "outputs": [],
   "source": [
    "from cobra import Metabolite\n",
    "from cobra import Reaction\n",
    "import cameo\n",
    "import cobra"
   ]
  },
  {
   "cell_type": "code",
   "execution_count": 14,
   "metadata": {},
   "outputs": [],
   "source": [
    "#importing iJO1366 model\n",
    "model = cameo.models.bigg.iJO1366\n",
    "model.reactions.EX_co2_e.lower_bound = 0\n",
    "\n",
    "#metabolite declaration\n",
    "btal = model.metabolites.get_by_id('btal_c')\n",
    "btcoa = model.metabolites.get_by_id('btcoa_c')\n",
    "nadh = model.metabolites.get_by_id('nadh_c')\n",
    "H = model.metabolites.get_by_id('h_c')\n",
    "coa = model.metabolites.get_by_id('coa_c')\n",
    "nad = model.metabolites.get_by_id('nad_c')\n",
    "nadph = model.metabolites.get_by_id('nadph_c')\n",
    "nadp = model.metabolites.get_by_id('nadp_c')\n",
    "btoh = Metabolite('btoh_c', formula = 'C4H10O', name = 'butanol', compartment = 'c')"
   ]
  },
  {
   "cell_type": "code",
   "execution_count": 15,
   "metadata": {},
   "outputs": [],
   "source": [
    "#reaction 0: butanoyl-coa + NADH + H <-> butanal + CoA + NAD\n",
    "reaction0 = Reaction('btcoa_btal')\n",
    "reaction0.name = 'butanoyl-CoA to butanal'\n",
    "reaction0.lower_bound = 0\n",
    "reaction0.upper_bound = 1000\n",
    "reaction0.add_metabolites({btcoa: -1.0, nadh: -1.0, H: -1.0, btal: 1.0, coa: 1.0, nad: 1.0})\n",
    "model.add_reaction(reaction0)\n",
    "\n",
    "#reaction 1: btal + nadph + H <-> btoh + NADP\n",
    "reaction1 = Reaction('btal_btoh')\n",
    "reaction1.name = 'butanal to butanol'\n",
    "reaction1.lower_bound = 0\n",
    "reaction1.upper_bound = 1000\n",
    "reaction1.add_metabolites({btal: -1.0, nadph: -1.0, H: -1.0, btoh: 1.0, nadp: 1.0})\n",
    "model.add_reaction(reaction1)\n",
    "\n",
    "#reaction 2: btoh ->\n",
    "reaction2 = Reaction('EX_btoh_e')\n",
    "reaction2.name = 'butanol consumption'\n",
    "reaction2.lower_bound = 0\n",
    "reaction2.upper_bound = 1000\n",
    "reaction2.add_metabolites({btoh: -1.0})\n",
    "model.add_reaction(reaction2)\n"
   ]
  },
  {
   "cell_type": "code",
   "execution_count": 16,
   "metadata": {},
   "outputs": [
    {
     "name": "stdout",
     "output_type": "stream",
     "text": [
      "10.000000000000007\n"
     ]
    }
   ],
   "source": [
    "#optimum flux calculation\n",
    "model.objective = 'EX_btoh_e'\n",
    "max_flux = 0\n",
    "max_flux=(model.optimize(objective_sense='maximize').objective_value)\n",
    "print(max_flux)"
   ]
  },
  {
   "cell_type": "code",
   "execution_count": 17,
   "metadata": {},
   "outputs": [
    {
     "data": {
      "text/html": [
       "<div>\n",
       "<style scoped>\n",
       "    .dataframe tbody tr th:only-of-type {\n",
       "        vertical-align: middle;\n",
       "    }\n",
       "\n",
       "    .dataframe tbody tr th {\n",
       "        vertical-align: top;\n",
       "    }\n",
       "\n",
       "    .dataframe thead tr th {\n",
       "        text-align: left;\n",
       "    }\n",
       "</style>\n",
       "<table border=\"1\" class=\"dataframe\">\n",
       "  <thead>\n",
       "    <tr>\n",
       "      <th></th>\n",
       "      <th colspan=\"2\" halign=\"left\">IN_FLUXES</th>\n",
       "      <th colspan=\"2\" halign=\"left\">OUT_FLUXES</th>\n",
       "      <th colspan=\"2\" halign=\"left\">OBJECTIVES</th>\n",
       "    </tr>\n",
       "    <tr>\n",
       "      <th></th>\n",
       "      <th>ID</th>\n",
       "      <th>FLUX</th>\n",
       "      <th>ID</th>\n",
       "      <th>FLUX</th>\n",
       "      <th>ID</th>\n",
       "      <th>FLUX</th>\n",
       "    </tr>\n",
       "  </thead>\n",
       "  <tbody>\n",
       "    <tr>\n",
       "      <th>0</th>\n",
       "      <td>glc__D_e</td>\n",
       "      <td>10.0</td>\n",
       "      <td>co2_e</td>\n",
       "      <td>20.0</td>\n",
       "      <td>EX_btoh_e</td>\n",
       "      <td>10.0</td>\n",
       "    </tr>\n",
       "    <tr>\n",
       "      <th>1</th>\n",
       "      <td>NaN</td>\n",
       "      <td>NaN</td>\n",
       "      <td>h2o_e</td>\n",
       "      <td>10.0</td>\n",
       "      <td>NaN</td>\n",
       "      <td>NaN</td>\n",
       "    </tr>\n",
       "  </tbody>\n",
       "</table>\n",
       "</div>"
      ],
      "text/plain": [
       "<cobra.core.summary.model_summary.ModelSummary at 0x102d087e48>"
      ]
     },
     "execution_count": 17,
     "metadata": {},
     "output_type": "execute_result"
    }
   ],
   "source": [
    "model.summary()"
   ]
  },
  {
   "cell_type": "code",
   "execution_count": 21,
   "metadata": {},
   "outputs": [],
   "source": [
    "cobra.io.write_sbml_model(model, \"butanol_alternative.xml\")"
   ]
  },
  {
   "cell_type": "code",
   "execution_count": null,
   "metadata": {},
   "outputs": [],
   "source": []
  }
 ],
 "metadata": {
  "kernelspec": {
   "display_name": "Python 3",
   "language": "python",
   "name": "python3"
  },
  "language_info": {
   "codemirror_mode": {
    "name": "ipython",
    "version": 3
   },
   "file_extension": ".py",
   "mimetype": "text/x-python",
   "name": "python",
   "nbconvert_exporter": "python",
   "pygments_lexer": "ipython3",
   "version": "3.6.10"
  }
 },
 "nbformat": 4,
 "nbformat_minor": 4
}
