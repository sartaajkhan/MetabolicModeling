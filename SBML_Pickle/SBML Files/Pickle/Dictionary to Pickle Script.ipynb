{
 "cells": [
  {
   "cell_type": "code",
   "execution_count": 132,
   "metadata": {},
   "outputs": [],
   "source": [
    "import cobra\n",
    "import pickle"
   ]
  },
  {
   "cell_type": "code",
   "execution_count": 133,
   "metadata": {},
   "outputs": [
    {
     "name": "stdout",
     "output_type": "stream",
     "text": [
      "[<Model iJO1366 at 0x10583cd450>, <Model iJO1366 at 0x106c11acd0>, <Model iJO1366 at 0x106da96050>, <Model iJO1366 at 0x10706d1e10>, <Model iJO1366 at 0x10703ccad0>, <Model iJO1366 at 0x1072979590>, <Model iJO1366 at 0x10757e86d0>, <Model iJO1366 at 0x1076ff0410>, <Model iJO1366 at 0x1076b29b90>, <Model iJO1366 at 0x107a23cd10>, <Model iJO1366 at 0x107a7853d0>, <Model iJO1366 at 0x107b57fa10>, <Model iJO1366 at 0x107ec94cd0>, <Model iJO1366 at 0x10800c00d0>, <Model iJO1366 at 0x1080aa2290>, <Model iJO1366 at 0x108236b950>, <Model iJO1366 at 0x1083c437d0>, <Model iJO1366 at 0x1086896510>, <Model iJO1366 at 0x1086dd7bd0>, <Model iJO1366 at 0x1089a2c210>, <Model iJO1366 at 0x108b2f11d0>, <Model iJO1366 at 0x108b834e50>, <Model iJO1366 at 0x108d0fa210>, <Model iJO1366 at 0x108e9bb0d0>, <Model iJO1366 at 0x109138c310>, <Model iJO1366 at 0x1092cb5ed0>, <Model iJO1366 at 0x10934190d0>, <Model iJO1366 at 0x1094ce3490>, <Model iJO1366 at 0x1097933610>, <Model iJO1366 at 0x1097e74850>, <Model iJO1366 at 0x109997ec10>, <Model iJO1366 at 0x109c0cfd50>, <Model iJO1366 at 0x109d83abd0>, <Model iJO1366 at 0x109e463c90>, <Model iJO1366 at 0x109fd25390>, <Model iJO1366 at 0x10a13bb3d0>, <Model iJO1366 at 0x10a2eb8090>, <Model iJO1366 at 0x10a58e4250>]\n"
     ]
    }
   ],
   "source": [
    "#importing SBML files and producing elements list\n",
    "xml_name = [\"1_3_butanediol.xml\",\"1_4_butanediol.xml\",\"1_propanol.xml\",\"2_3_butanediol.xml\",\"adipic_acid.xml\",\n",
    "           \"alpha_farnesene.xml\",\"butane.xml\",\"butanol.xml\",\"butyl_butanoate.xml\",\"casbene.xml\",\"catechol.xml\",\n",
    "           \"ethyl_acetate.xml\",\"ethyl_butanoate.xml\",\"ethyl_pentanoate.xml\",\"ethylbenzene.xml\",\"ethylene.xml\",\n",
    "           \"heptane.xml\",\"HMF.xml\",\"isobutanol.xml\",\"isobutyl_acetate.xml\",\"isobutyl_butanoate.xml\",\n",
    "           \"isobutyl_pentanoate.xml\",\"isoprene.xml\",\"itaconic_acid.xml\",\"levulinic_acid.xml\",\"limonene.xml\",\"mycrene.xml\",\n",
    "           \"nonane.xml\",\"pentane.xml\",\"pentanol.xml\",\"pentyl_pentanoate.xml\",\"phenol.xml\",\"polylactic_acid.xml\",\n",
    "           \"propane.xml\",\"propyl_butanoate.xml\",\"styrene.xml\",\"vanillin.xml\",\"xylene.xml\"]\n",
    "\n",
    "elements = [BD13,BD14,propanol,BD23,adipic,farnesene,butane,butanol,butyl_but,casbene,catechol,ethyl_ac,ethyl_but,\n",
    "           ethyl_pen,ethylbenz,ethylene,heptane,HMF,isobutanol,isobut_ac,isobut_but,isobut_pen,isoprene,\n",
    "           itaconic,lev,limonene,mycrene,nonane,pentane,pentanol,pentyl_pen,phenol,lactic,propane,propyl_but,\n",
    "           styrene,vanillin,xylene]\n",
    "\n",
    "for i in range(38):\n",
    "    elements[i] = cobra.io.read_sbml_model(xml_name[i])\n",
    "\n",
    "print(elements)"
   ]
  },
  {
   "cell_type": "code",
   "execution_count": 134,
   "metadata": {},
   "outputs": [
    {
     "name": "stdout",
     "output_type": "stream",
     "text": [
      "{'1_3_butanediol': <Model iJO1366 at 0x10583cd450>, '1_4_butanediol': <Model iJO1366 at 0x106c11acd0>, '1_propanol': <Model iJO1366 at 0x106da96050>, '2_3_butanediol': <Model iJO1366 at 0x10706d1e10>, 'adipic_acid': <Model iJO1366 at 0x10703ccad0>, 'alpha_farnesene': <Model iJO1366 at 0x1072979590>, 'butane': <Model iJO1366 at 0x10757e86d0>, 'butanol': <Model iJO1366 at 0x1076ff0410>, 'butyl_butanoate': <Model iJO1366 at 0x1076b29b90>, 'casbene': <Model iJO1366 at 0x107a23cd10>, 'catechol': <Model iJO1366 at 0x107a7853d0>, 'ethyl_acetate': <Model iJO1366 at 0x107b57fa10>, 'ethyl_butanoate': <Model iJO1366 at 0x107ec94cd0>, 'ethyl_pentanoate': <Model iJO1366 at 0x10800c00d0>, 'ethylbenzene': <Model iJO1366 at 0x1080aa2290>, 'ethylene': <Model iJO1366 at 0x108236b950>, 'heptane': <Model iJO1366 at 0x1083c437d0>, 'HMF': <Model iJO1366 at 0x1086896510>, 'isobutanol': <Model iJO1366 at 0x1086dd7bd0>, 'isobutyl_acetate': <Model iJO1366 at 0x1089a2c210>, 'isobutyl_butanoate': <Model iJO1366 at 0x108b2f11d0>, 'isobutyl_pentanoate': <Model iJO1366 at 0x108b834e50>, 'isoprene': <Model iJO1366 at 0x108d0fa210>, 'itaconic_acid': <Model iJO1366 at 0x108e9bb0d0>, 'levulinic_acid': <Model iJO1366 at 0x109138c310>, 'limonene': <Model iJO1366 at 0x1092cb5ed0>, 'mycrene': <Model iJO1366 at 0x10934190d0>, 'nonane': <Model iJO1366 at 0x1094ce3490>, 'pentane': <Model iJO1366 at 0x1097933610>, 'pentanol': <Model iJO1366 at 0x1097e74850>, 'pentyl_pentanoate': <Model iJO1366 at 0x109997ec10>, 'phenol': <Model iJO1366 at 0x109c0cfd50>, 'polylactic_acid': <Model iJO1366 at 0x109d83abd0>, 'propane': <Model iJO1366 at 0x109e463c90>, 'propyl_butanoate': <Model iJO1366 at 0x109fd25390>, 'styrene': <Model iJO1366 at 0x10a13bb3d0>, 'vanillin': <Model iJO1366 at 0x10a2eb8090>, 'xylene': <Model iJO1366 at 0x10a58e4250>}\n"
     ]
    }
   ],
   "source": [
    "#creating and processing the dictionary\n",
    "d = dict()\n",
    "element_names = [\"1_3_butanediol\",\"1_4_butanediol\",\"1_propanol\",\"2_3_butanediol\",\"adipic_acid\",\n",
    "           \"alpha_farnesene\",\"butane\",\"butanol\",\"butyl_butanoate\",\"casbene\",\"catechol\",\n",
    "           \"ethyl_acetate\",\"ethyl_butanoate\",\"ethyl_pentanoate\",\"ethylbenzene\",\"ethylene\",\n",
    "           \"heptane\",\"HMF\",\"isobutanol\",\"isobutyl_acetate\",\"isobutyl_butanoate\",\n",
    "           \"isobutyl_pentanoate\",\"isoprene\",\"itaconic_acid\",\"levulinic_acid\",\"limonene\",\"mycrene\",\n",
    "           \"nonane\",\"pentane\",\"pentanol\",\"pentyl_pentanoate\",\"phenol\",\"polylactic_acid\",\n",
    "           \"propane\",\"propyl_butanoate\",\"styrene\",\"vanillin\",\"xylene\"]\n",
    "\n",
    "\n",
    "for i in range(38):\n",
    "    d[element_names[i]] = elements[i]\n",
    "\n",
    "#test to see if dictionary is processed\n",
    "print(d)"
   ]
  },
  {
   "cell_type": "code",
   "execution_count": 135,
   "metadata": {},
   "outputs": [],
   "source": [
    "pickle_out = open(\"dictionary.pickle\",\"wb\")\n",
    "pickle.dump(d,pickle_out)\n",
    "pickle_out.close()"
   ]
  },
  {
   "cell_type": "code",
   "execution_count": null,
   "metadata": {},
   "outputs": [],
   "source": []
  }
 ],
 "metadata": {
  "kernelspec": {
   "display_name": "Python 3",
   "language": "python",
   "name": "python3"
  },
  "language_info": {
   "codemirror_mode": {
    "name": "ipython",
    "version": 3
   },
   "file_extension": ".py",
   "mimetype": "text/x-python",
   "name": "python",
   "nbconvert_exporter": "python",
   "pygments_lexer": "ipython3",
   "version": "3.7.6"
  }
 },
 "nbformat": 4,
 "nbformat_minor": 4
}
