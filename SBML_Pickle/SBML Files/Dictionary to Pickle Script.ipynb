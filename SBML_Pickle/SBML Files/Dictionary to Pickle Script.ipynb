{
 "cells": [
  {
   "cell_type": "code",
   "execution_count": 1,
   "metadata": {},
   "outputs": [],
   "source": [
    "import cobra\n",
    "import pickle\n",
    "import numpy as np"
   ]
  },
  {
   "cell_type": "code",
   "execution_count": 2,
   "metadata": {},
   "outputs": [
    {
     "name": "stdout",
     "output_type": "stream",
     "text": [
      "Using license file /Users/sartaajkhan/gurobi.lic\n",
      "Academic license - for non-commercial use only\n",
      "[<Model iJO1366 at 0x102a36d080>, <Model iJO1366 at 0x10251a0b38>, <Model iJO1366 at 0x102dc125f8>, <Model iJO1366 at 0x102f4acbe0>, <Model iJO1366 at 0x1030d10f28>, <Model iJO1366 at 0x102fa62f98>, <Model iJO1366 at 0x1032b66f98>, <Model iJO1366 at 0x10341c7438>, <Model iJO1366 at 0x1036f227f0>, <Model iJO1366 at 0x1038822ef0>, <Model iJO1366 at 0x103a075e10>, <Model iJO1366 at 0x103b976e48>, <Model iJO1366 at 0x103d18cda0>, <Model iJO1366 at 0x103ea8cbe0>, <Model iJO1366 at 0x103dccd470>, <Model iJO1366 at 0x10406ae518>, <Model iJO1366 at 0x10434024e0>, <Model iJO1366 at 0x1044d06eb8>, <Model iJO1366 at 0x104500acc0>, <Model iJO1366 at 0x1047e4be48>, <Model iJO1366 at 0x1049661d68>, <Model iJO1366 at 0x104af63b70>, <Model iJO1366 at 0x104c77b2e8>, <Model iJO1366 at 0x104cb5eb00>, <Model iJO1366 at 0x104f8d4cc0>, <Model iJO1366 at 0x10511c3dd8>, <Model iJO1366 at 0x1051760f98>, <Model iJO1366 at 0x10542d4f98>, <Model iJO1366 at 0x1055af9fd0>, <Model iJO1366 at 0x1055ee7da0>, <Model iJO1366 at 0x104e62df60>, <Model iJO1366 at 0x1058ff8f28>, <Model iJO1366 at 0x105a80bd30>, <Model iJO1366 at 0x105d600dd8>, <Model iJO1366 at 0x105d913da0>, <Model iJO1366 at 0x106073ff98>, <Model iJO1366 at 0x1060a45860>, <Model iJO1366 at 0x10625dff98>]\n"
     ]
    }
   ],
   "source": [
    "#importing SBML files and producing elements list\n",
    "xml_name = [\"1_3_butanediol.xml\",\"1_4_butanediol.xml\",\"1_propanol.xml\",\"2_3_butanediol.xml\",\"adipic_acid.xml\",\n",
    "           \"alpha_farnesene.xml\",\"butane.xml\",\"butanol.xml\",\"butyl_butanoate.xml\",\"casbene.xml\",\"catechol.xml\",\n",
    "           \"ethyl_acetate.xml\",\"ethyl_butanoate.xml\",\"ethyl_pentanoate.xml\",\"ethylbenzene.xml\",\"ethylene.xml\",\n",
    "           \"heptane.xml\",\"HMF.xml\",\"isobutanol.xml\",\"isobutyl_acetate.xml\",\"isobutyl_butanoate.xml\",\n",
    "           \"isobutyl_pentanoate.xml\",\"isoprene.xml\",\"itaconic_acid.xml\",\"levulinic_acid.xml\",\"limonene.xml\",\"mycrene.xml\",\n",
    "           \"nonane.xml\",\"pentane.xml\",\"pentanol.xml\",\"pentyl_pentanoate.xml\",\"phenol.xml\",\"polylactic_acid.xml\",\n",
    "           \"propane.xml\",\"propyl_butanoate.xml\",\"styrene.xml\",\"vanillin.xml\",\"xylene.xml\"]\n",
    "\n",
    "elements = list()\n",
    "\n",
    "for i in range(38):\n",
    "    elements.append(cobra.io.read_sbml_model(xml_name[i]))\n",
    "\n",
    "print(elements)"
   ]
  },
  {
   "cell_type": "code",
   "execution_count": 3,
   "metadata": {},
   "outputs": [
    {
     "name": "stdout",
     "output_type": "stream",
     "text": [
      "{'1_3_butanediol': <Model iJO1366 at 0x102a36d080>, '1_4_butanediol': <Model iJO1366 at 0x10251a0b38>, '1_propanol': <Model iJO1366 at 0x102dc125f8>, '2_3_butanediol': <Model iJO1366 at 0x102f4acbe0>, 'adipic_acid': <Model iJO1366 at 0x1030d10f28>, 'alpha_farnesene': <Model iJO1366 at 0x102fa62f98>, 'butane': <Model iJO1366 at 0x1032b66f98>, 'butanol': <Model iJO1366 at 0x10341c7438>, 'butyl_butanoate': <Model iJO1366 at 0x1036f227f0>, 'casbene': <Model iJO1366 at 0x1038822ef0>, 'catechol': <Model iJO1366 at 0x103a075e10>, 'ethyl_acetate': <Model iJO1366 at 0x103b976e48>, 'ethyl_butanoate': <Model iJO1366 at 0x103d18cda0>, 'ethyl_pentanoate': <Model iJO1366 at 0x103ea8cbe0>, 'ethylbenzene': <Model iJO1366 at 0x103dccd470>, 'ethylene': <Model iJO1366 at 0x10406ae518>, 'heptane': <Model iJO1366 at 0x10434024e0>, 'HMF': <Model iJO1366 at 0x1044d06eb8>, 'isobutanol': <Model iJO1366 at 0x104500acc0>, 'isobutyl_acetate': <Model iJO1366 at 0x1047e4be48>, 'isobutyl_butanoate': <Model iJO1366 at 0x1049661d68>, 'isobutyl_pentanoate': <Model iJO1366 at 0x104af63b70>, 'isoprene': <Model iJO1366 at 0x104c77b2e8>, 'itaconic_acid': <Model iJO1366 at 0x104cb5eb00>, 'levulinic_acid': <Model iJO1366 at 0x104f8d4cc0>, 'limonene': <Model iJO1366 at 0x10511c3dd8>, 'mycrene': <Model iJO1366 at 0x1051760f98>, 'nonane': <Model iJO1366 at 0x10542d4f98>, 'pentane': <Model iJO1366 at 0x1055af9fd0>, 'pentanol': <Model iJO1366 at 0x1055ee7da0>, 'pentyl_pentanoate': <Model iJO1366 at 0x104e62df60>, 'phenol': <Model iJO1366 at 0x1058ff8f28>, 'polylactic_acid': <Model iJO1366 at 0x105a80bd30>, 'propane': <Model iJO1366 at 0x105d600dd8>, 'propyl_butanoate': <Model iJO1366 at 0x105d913da0>, 'styrene': <Model iJO1366 at 0x106073ff98>, 'vanillin': <Model iJO1366 at 0x1060a45860>, 'xylene': <Model iJO1366 at 0x10625dff98>}\n"
     ]
    }
   ],
   "source": [
    "#creating and processing the dictionary\n",
    "d = dict()\n",
    "element_names = [\"1_3_butanediol\",\"1_4_butanediol\",\"1_propanol\",\"2_3_butanediol\",\"adipic_acid\",\n",
    "           \"alpha_farnesene\",\"butane\",\"butanol\",\"butyl_butanoate\",\"casbene\",\"catechol\",\n",
    "           \"ethyl_acetate\",\"ethyl_butanoate\",\"ethyl_pentanoate\",\"ethylbenzene\",\"ethylene\",\n",
    "           \"heptane\",\"HMF\",\"isobutanol\",\"isobutyl_acetate\",\"isobutyl_butanoate\",\n",
    "           \"isobutyl_pentanoate\",\"isoprene\",\"itaconic_acid\",\"levulinic_acid\",\"limonene\",\"mycrene\",\n",
    "           \"nonane\",\"pentane\",\"pentanol\",\"pentyl_pentanoate\",\"phenol\",\"polylactic_acid\",\n",
    "           \"propane\",\"propyl_butanoate\",\"styrene\",\"vanillin\",\"xylene\"]\n",
    "\n",
    "\n",
    "for i in range(38):\n",
    "    d[element_names[i]] = elements[i]\n",
    "\n",
    "#test to see if dictionary is processed\n",
    "print(d)"
   ]
  },
  {
   "cell_type": "code",
   "execution_count": 4,
   "metadata": {},
   "outputs": [],
   "source": [
    "pickle_out = open(\"dictionary.pickle\",\"wb\")\n",
    "pickle.dump(d,pickle_out)\n",
    "pickle_out.close()"
   ]
  },
  {
   "cell_type": "code",
   "execution_count": null,
   "metadata": {},
   "outputs": [],
   "source": []
  }
 ],
 "metadata": {
  "kernelspec": {
   "display_name": "Python 3",
   "language": "python",
   "name": "python3"
  },
  "language_info": {
   "codemirror_mode": {
    "name": "ipython",
    "version": 3
   },
   "file_extension": ".py",
   "mimetype": "text/x-python",
   "name": "python",
   "nbconvert_exporter": "python",
   "pygments_lexer": "ipython3",
   "version": "3.6.10"
  }
 },
 "nbformat": 4,
 "nbformat_minor": 4
}
