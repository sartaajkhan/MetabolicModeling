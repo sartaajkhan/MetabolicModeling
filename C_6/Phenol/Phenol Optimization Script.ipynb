{
 "cells": [
  {
   "cell_type": "code",
   "execution_count": 14,
   "metadata": {},
   "outputs": [],
   "source": [
    "from cobra import Metabolite\n",
    "from cobra import Reaction\n",
    "import cameo\n",
    "import cobra"
   ]
  },
  {
   "cell_type": "code",
   "execution_count": 15,
   "metadata": {},
   "outputs": [],
   "source": [
    "#importing iJO1366 model\n",
    "model = cameo.models.bigg.iJO1366\n",
    "model.reactions.EX_co2_e.lower_bound = 0\n",
    "\n",
    "#metabolites\n",
    "glucose = model.metabolites.get_by_id('glu__D_c')\n",
    "atp = model.metabolites.get_by_id('atp_c')\n",
    "adp = model.metabolites.get_by_id('adp_c')\n",
    "g6p = model.metabolites.get_by_id('g6p_c')\n",
    "f6p = model.metabolites.get_by_id('f6p_c')\n",
    "f16_biP = model.metabolites.get_by_id('fdp_c')\n",
    "g3p = model.metabolites.get_by_id('g3p_c')\n",
    "DHAP = model.metabolites.get_by_id('dhap_c')\n",
    "PEP = model.metabolites.get_by_id('pep_c')\n",
    "e4p = model.metabolites.get_by_id('e4p_c')\n",
    "dahp = model.metabolites.get_by_id('2dda7p_c')\n",
    "H = model.metabolites.get_by_id('h_c')\n",
    "dhq = model.metabolites.get_by_id('3dhq_c')\n",
    "phosphate = Metabolite('phos_c', formula='PO4', name='phosphate anion', compartment='c', charge=-3)\n",
    "dhs = model.metabolites.get_by_id('3dhsk_c')\n",
    "h2o = model.metabolites.get_by_id('h2o_c')\n",
    "nadph = model.metabolites.get_by_id('nadph_c')\n",
    "nadp = model.metabolites.get_by_id('nadp_c')\n",
    "SHK = model.metabolites.get_by_id('skm_c')\n",
    "s3p = model.metabolites.get_by_id('skm5p_c')\n",
    "EPSP = Metabolite('epsp_c', formula='C10H10O10P', name='5-enolpyruvylshikimate-3-phosphate', compartment='c', charge=-3)\n",
    "chor = model.metabolites.get_by_id('chor_c')\n",
    "PPH = model.metabolites.get_by_id('pphn_c')\n",
    "HPP34 = model.metabolites.get_by_id('34hpp_c')\n",
    "carbon_dioxide = model.metabolites.get_by_id('co2_c')\n",
    "l_alanine = model.metabolites.get_by_id('ala__L_c')\n",
    "l_tyrosine = model.metabolites.get_by_id('tyr__L_c')\n",
    "pyr = model.metabolites.get_by_id('pyr_c')\n",
    "phenol = Metabolite('phenol_c', formula='C6H6O', name='phenol', compartment='c', charge=0)\n",
    "ammonium = model.metabolites.get_by_id('nh4_c')\n",
    "NAD = model.metabolites.get_by_id('nad_c')\n",
    "NADH = model.metabolites.get_by_id('nadh_c')\n",
    "adp = model.metabolites.get_by_id('adp_c')\n",
    "atp = model.metabolites.get_by_id('atp_c')"
   ]
  },
  {
   "cell_type": "code",
   "execution_count": 16,
   "metadata": {},
   "outputs": [],
   "source": [
    "#reactions for the phenol pathway for iJO1366 model\n",
    "\n",
    "#reaction 6: PEP + E4P + ADP + H -> dahp + ATP\n",
    "reaction6 = Reaction('PEP_DAHP')\n",
    "reaction6.name = 'PEP to DAHP'\n",
    "reaction6.lower_bound = -1000\n",
    "reaction6.upper_bound = 1000\n",
    "reaction6.add_metabolites({PEP: -1.0, e4p: -1.0, adp: -1.0, H: -1.0, dahp: 1.0, atp: 1.0})\n",
    "model.add_reaction(reaction6)\n",
    "\n",
    "#reaction 7: DAHP -> DHQ + PO4{3-} + H+\n",
    "reaction7 = Reaction('DAHP_DHQ')\n",
    "reaction7.name = 'DAHP to DHQ'\n",
    "reaction7.lower_bound = -1000\n",
    "reaction7.upper_bound = 1000\n",
    "reaction7.add_metabolites({dahp: -1.0, dhq: 1.0, phosphate: 1.0, H: 1.0})\n",
    "model.add_reaction(reaction7)\n",
    "\n",
    "#reaction 8: DHQ -> DHS + H2O\n",
    "reaction8 = Reaction('DHQ_DHS')\n",
    "reaction8.name = 'DHQ to DHS'\n",
    "reaction8.lower_bound = -1000\n",
    "reaction8.upper_bound = 1000\n",
    "reaction8.add_metabolites({dhq: -1.0, dhs: 1.0, h2o: 1.0})\n",
    "model.add_reaction(reaction8)\n",
    "\n",
    "#reaction 9: dhs + nadp(H) + H+ -> SHK + NAD+\n",
    "reaction9 = Reaction('DHS_SHK')\n",
    "reaction9.name = 'DHS to SHK'\n",
    "reaction9.lower_bound = -1000\n",
    "reaction9.upper_bound = 1000\n",
    "reaction9.add_metabolites({dhs: -1.0, nadph: -1.0, H: -1.0, SHK: 1.0, nadp: 1.0})\n",
    "model.add_reaction(reaction9)\n",
    "\n",
    "#reaction 10: atp + SHK -> s3p + adp + H\n",
    "reaction10 = Reaction('SHK_S3P')\n",
    "reaction10.name = 'SHK to S3P'\n",
    "reaction10.lower_bound = -1000\n",
    "reaction10.upper_bound = 1000\n",
    "reaction10.add_metabolites({SHK: -1.0, atp: -1.0, s3p: 1.0, H: 1.0, adp: 1.0})\n",
    "model.add_reaction(reaction10)\n",
    "\n",
    "#reaction 11: S3P + PEP -> EPSP + PO4{3-}\n",
    "reaction11 = Reaction('S3P_EPSP')\n",
    "reaction11.name = 'S3P to EPSP'\n",
    "reaction11.lower_bound = -1000\n",
    "reaction11.upper_bound = 1000\n",
    "reaction11.add_metabolites({s3p: -1.0, PEP: -1.0, EPSP: 1.0, phosphate: 1.0})\n",
    "model.add_reaction(reaction11)\n",
    "\n",
    "#reaction 12: EPSP -> chorismate + PO4{3-} + 2H+\n",
    "reaction12 = Reaction('EPSP_chor')\n",
    "reaction12.name = 'EPSP to chorismate'\n",
    "reaction12.lower_bound = -1000\n",
    "reaction12.upper_bound = 1000\n",
    "reaction12.add_metabolites({EPSP: -1.0, chor: 1.0, phosphate: 1.0, H: 2.0})\n",
    "model.add_reaction(reaction12)\n",
    "\n",
    "#reaction 13: chorismate -> PPH\n",
    "reaction13 = Reaction('chor_PPH')\n",
    "reaction13.name = 'chorismate to PPH'\n",
    "reaction13.lower_bound = -1000\n",
    "reaction13.upper_bound = 1000\n",
    "reaction13.add_metabolites({chor: -1.0, PPH: 1.0})\n",
    "model.add_reaction(reaction13)\n",
    "\n",
    "#reaction 14: PPH + NAD{+} -> 3-(4-hydroxyphenyl)pyruvate (HPP34) + NADH + CO2\n",
    "reaction14 = Reaction('PPH_HPP34')\n",
    "reaction14.name = 'PPH to HPP34'\n",
    "reaction14.lower_bound = -1000\n",
    "reaction14.upper_bound = 1000\n",
    "reaction14.add_metabolites({PPH: -1.0, NAD: -1.0, HPP34: 1.0, NADH: 1.0, carbon_dioxide: 1.0})\n",
    "model.add_reaction(reaction14)\n",
    "\n",
    "#reaction 15: 3-(4-hydroxyphenyl)pyruvate (HPP34) + L-Alaline -> L-tyrosine + pyruvate\n",
    "reaction15 = Reaction('HPP34_L_tyrosine')\n",
    "reaction15.name = 'HPP34 to L-Tyrosine'\n",
    "reaction15.lower_bound = -1000\n",
    "reaction15.upper_bound = 1000\n",
    "reaction15.add_metabolites({HPP34: -1.0, l_alanine: -1.0, l_tyrosine: 1.0, pyr: 1.0})\n",
    "model.add_reaction(reaction15)\n",
    "\n",
    "#reaction 16: L-tyrosine + H2O -> phenol + pyruvate + ammonium\n",
    "reaction16 = Reaction('L_tyrosine_phenol')\n",
    "reaction16.name = 'L-tyrosine to phenol'\n",
    "reaction16.lower_bound = -1000\n",
    "reaction16.upper_bound = 1000\n",
    "reaction16.add_metabolites({l_tyrosine: -1.0, h2o: -1.0, phenol: 1.0, pyr: 1.0, ammonium: 1.0})\n",
    "model.add_reaction(reaction16)\n",
    "\n",
    "#reaction 17: phenol -> --\n",
    "reaction17 = Reaction('EX_phenol_e')\n",
    "reaction17.name = 'Phenol consumption'\n",
    "reaction17.lower_bound = 0\n",
    "reaction17.upper_bound = 1000\n",
    "reaction17.add_metabolites({phenol: -1.0})\n",
    "model.add_reaction(reaction17)\n"
   ]
  },
  {
   "cell_type": "code",
   "execution_count": 17,
   "metadata": {},
   "outputs": [
    {
     "name": "stdout",
     "output_type": "stream",
     "text": [
      "7.445244956772335\n"
     ]
    }
   ],
   "source": [
    "#optimum flux calculation\n",
    "model.objective = 'EX_phenol_e'\n",
    "max_flux = 0\n",
    "max_flux=(model.optimize(objective_sense='maximize').objective_value)\n",
    "print(max_flux)\n"
   ]
  },
  {
   "cell_type": "code",
   "execution_count": 18,
   "metadata": {},
   "outputs": [
    {
     "name": "stdout",
     "output_type": "stream",
     "text": [
      "the optimum yield of phenol is  74.45244956772335\n"
     ]
    }
   ],
   "source": [
    "#max yield calculation\n",
    "yield_phenol = (max_flux/10)*100\n",
    "print('the optimum yield of phenol is ', yield_phenol)\n"
   ]
  },
  {
   "cell_type": "code",
   "execution_count": 19,
   "metadata": {},
   "outputs": [
    {
     "data": {
      "text/html": [
       "<div>\n",
       "<style scoped>\n",
       "    .dataframe tbody tr th:only-of-type {\n",
       "        vertical-align: middle;\n",
       "    }\n",
       "\n",
       "    .dataframe tbody tr th {\n",
       "        vertical-align: top;\n",
       "    }\n",
       "\n",
       "    .dataframe thead tr th {\n",
       "        text-align: left;\n",
       "    }\n",
       "</style>\n",
       "<table border=\"1\" class=\"dataframe\">\n",
       "  <thead>\n",
       "    <tr>\n",
       "      <th></th>\n",
       "      <th colspan=\"2\" halign=\"left\">IN_FLUXES</th>\n",
       "      <th colspan=\"2\" halign=\"left\">OUT_FLUXES</th>\n",
       "      <th colspan=\"2\" halign=\"left\">OBJECTIVES</th>\n",
       "    </tr>\n",
       "    <tr>\n",
       "      <th></th>\n",
       "      <th>ID</th>\n",
       "      <th>FLUX</th>\n",
       "      <th>ID</th>\n",
       "      <th>FLUX</th>\n",
       "      <th>ID</th>\n",
       "      <th>FLUX</th>\n",
       "    </tr>\n",
       "  </thead>\n",
       "  <tbody>\n",
       "    <tr>\n",
       "      <th>0</th>\n",
       "      <td>glc__D_e</td>\n",
       "      <td>10.000000</td>\n",
       "      <td>h2o_e</td>\n",
       "      <td>37.664265</td>\n",
       "      <td>EX_phenol_e</td>\n",
       "      <td>7.445245</td>\n",
       "    </tr>\n",
       "    <tr>\n",
       "      <th>1</th>\n",
       "      <td>o2_e</td>\n",
       "      <td>7.883285</td>\n",
       "      <td>co2_e</td>\n",
       "      <td>15.328530</td>\n",
       "      <td>NaN</td>\n",
       "      <td>NaN</td>\n",
       "    </tr>\n",
       "  </tbody>\n",
       "</table>\n",
       "</div>"
      ],
      "text/plain": [
       "<cobra.core.summary.model_summary.ModelSummary at 0x10217775f8>"
      ]
     },
     "execution_count": 19,
     "metadata": {},
     "output_type": "execute_result"
    }
   ],
   "source": [
    "model.summary()"
   ]
  },
  {
   "cell_type": "code",
   "execution_count": 20,
   "metadata": {},
   "outputs": [
    {
     "name": "stdout",
     "output_type": "stream",
     "text": [
      "EX_phenol_e: phenol_c --> \n"
     ]
    }
   ],
   "source": [
    "for i in range(-1,-13,-1):\n",
    "    if model.reactions[i].check_mass_balance() == {}:\n",
    "        pass\n",
    "    else:\n",
    "        print(model.reactions[i])"
   ]
  },
  {
   "cell_type": "code",
   "execution_count": 21,
   "metadata": {},
   "outputs": [],
   "source": [
    "cobra.io.write_sbml_model(model, \"phenol.xml\")"
   ]
  },
  {
   "cell_type": "code",
   "execution_count": 10,
   "metadata": {},
   "outputs": [
    {
     "data": {
      "text/html": [
       "\n",
       "        <table>\n",
       "            <tr>\n",
       "                <td><strong>Reaction identifier</strong></td><td>EPSP_chor</td>\n",
       "            </tr><tr>\n",
       "                <td><strong>Name</strong></td><td>EPSP to chorismate</td>\n",
       "            </tr><tr>\n",
       "                <td><strong>Memory address</strong></td>\n",
       "                <td>0x0102a810fd0</td>\n",
       "            </tr><tr>\n",
       "                <td><strong>Stoichiometry</strong></td>\n",
       "                <td>\n",
       "                    <p style='text-align:right'>epsp <=> chor_c + 2.0 h_c + phos</p>\n",
       "                    <p style='text-align:right'>5-enolpyruvylshikimate-3-phosphate <=> Chorismate + 2.0 H+ + phosphate</p>\n",
       "                </td>\n",
       "            </tr><tr>\n",
       "                <td><strong>GPR</strong></td><td></td>\n",
       "            </tr><tr>\n",
       "                <td><strong>Lower bound</strong></td><td>-1000</td>\n",
       "            </tr><tr>\n",
       "                <td><strong>Upper bound</strong></td><td>1000</td>\n",
       "            </tr>\n",
       "        </table>\n",
       "        "
      ],
      "text/plain": [
       "<Reaction EPSP_chor at 0x102a810fd0>"
      ]
     },
     "execution_count": 10,
     "metadata": {},
     "output_type": "execute_result"
    }
   ],
   "source": [
    "reaction12"
   ]
  },
  {
   "cell_type": "code",
   "execution_count": null,
   "metadata": {},
   "outputs": [],
   "source": []
  }
 ],
 "metadata": {
  "kernelspec": {
   "display_name": "Python 3",
   "language": "python",
   "name": "python3"
  },
  "language_info": {
   "codemirror_mode": {
    "name": "ipython",
    "version": 3
   },
   "file_extension": ".py",
   "mimetype": "text/x-python",
   "name": "python",
   "nbconvert_exporter": "python",
   "pygments_lexer": "ipython3",
   "version": "3.6.10"
  }
 },
 "nbformat": 4,
 "nbformat_minor": 4
}
